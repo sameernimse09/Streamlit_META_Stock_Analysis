{
  "cells": [
    {
      "cell_type": "code",
      "execution_count": null,
      "metadata": {
        "id": "NVjkrm8LN7Vp"
      },
      "outputs": [],
      "source": [
        "import pandas as pd\n",
        "import numpy as np\n",
        "import matplotlib.pyplot as plt\n",
        "from datetime import datetime\n",
        "import io\n",
        "# from google.colab import files\n",
        "from sklearn.model_selection import train_test_split\n",
        "from sklearn.linear_model import Ridge\n",
        "from sklearn.metrics import mean_squared_error\n",
        "import statsmodels.api as sm\n",
        "import scipy.stats as ss\n",
        "from sklearn.impute import SimpleImputer\n",
        "from sklearn.linear_model import RidgeCV\n",
        "from sklearn.model_selection import cross_val_score\n",
        "from sklearn.linear_model import LassoLars"
      ]
    },
    {
      "cell_type": "code",
      "source": [
        "data = pd.read_csv('META_FeatureMart.csv', index_col = [0])\n",
        "data.head()"
      ],
      "metadata": {
        "colab": {
          "base_uri": "https://localhost:8080/",
          "height": 270
        },
        "id": "NDWRxlenOEOF",
        "outputId": "1555402a-1275-4fc6-e3de-8cc813a3a49b"
      },
      "execution_count": null,
      "outputs": [
        {
          "output_type": "execute_result",
          "data": {
            "text/plain": [
              "       DATE  MKT-RF   SMB   HML   RMW   CMA   RF  ADS_INDEX    SP500  T10Y3M  \\\n",
              "0  1/3/2017    0.53 -0.24  0.33 -0.28  0.11  0.0   0.199210  2257.83    1.92   \n",
              "1  1/4/2017    1.03  0.51  0.29 -0.37 -0.10  0.0   0.178190  2270.75    1.93   \n",
              "2  1/5/2017    0.50  0.02 -0.36  0.02 -0.15  0.0   0.157624  2269.00    1.85   \n",
              "3  1/6/2017   -0.24 -0.52 -0.49 -0.06 -0.16  0.0   0.137503  2276.98    1.89   \n",
              "4  1/9/2017   -0.11  0.04 -0.61  0.32 -0.34  0.0   0.079457  2268.90    1.88   \n",
              "\n",
              "   ...  USRECDM  USRECDP   META_OPEN   META_HIGH    META_LOW  META_CLOSE  \\\n",
              "0  ...        0        0  116.029999  117.839996  115.510002  116.860001   \n",
              "1  ...        0        0  117.550003  119.660004  117.290001  118.690002   \n",
              "2  ...        0        0  118.860001  120.949997  118.320000  120.669998   \n",
              "3  ...        0        0  120.980003  123.879997  120.029999  123.410004   \n",
              "4  ...        0        0  123.550003  125.430000  123.040001  124.900002   \n",
              "\n",
              "   META_ADJ CLOSE  META_VOLUME  META_DAILY_RETURN  META_RSI  \n",
              "0      116.860001     20663900                NaN       NaN  \n",
              "1      118.690002     19630900           0.015660       NaN  \n",
              "2      120.669998     19492200           0.016682       NaN  \n",
              "3      123.410004     28545300           0.022707       NaN  \n",
              "4      124.900002     22880400           0.012074       NaN  \n",
              "\n",
              "[5 rows x 45 columns]"
            ],
            "text/html": [
              "\n",
              "  <div id=\"df-2eb07a6d-c5ca-4cca-9cff-8a36a04aea2b\" class=\"colab-df-container\">\n",
              "    <div>\n",
              "<style scoped>\n",
              "    .dataframe tbody tr th:only-of-type {\n",
              "        vertical-align: middle;\n",
              "    }\n",
              "\n",
              "    .dataframe tbody tr th {\n",
              "        vertical-align: top;\n",
              "    }\n",
              "\n",
              "    .dataframe thead th {\n",
              "        text-align: right;\n",
              "    }\n",
              "</style>\n",
              "<table border=\"1\" class=\"dataframe\">\n",
              "  <thead>\n",
              "    <tr style=\"text-align: right;\">\n",
              "      <th></th>\n",
              "      <th>DATE</th>\n",
              "      <th>MKT-RF</th>\n",
              "      <th>SMB</th>\n",
              "      <th>HML</th>\n",
              "      <th>RMW</th>\n",
              "      <th>CMA</th>\n",
              "      <th>RF</th>\n",
              "      <th>ADS_INDEX</th>\n",
              "      <th>SP500</th>\n",
              "      <th>T10Y3M</th>\n",
              "      <th>...</th>\n",
              "      <th>USRECDM</th>\n",
              "      <th>USRECDP</th>\n",
              "      <th>META_OPEN</th>\n",
              "      <th>META_HIGH</th>\n",
              "      <th>META_LOW</th>\n",
              "      <th>META_CLOSE</th>\n",
              "      <th>META_ADJ CLOSE</th>\n",
              "      <th>META_VOLUME</th>\n",
              "      <th>META_DAILY_RETURN</th>\n",
              "      <th>META_RSI</th>\n",
              "    </tr>\n",
              "  </thead>\n",
              "  <tbody>\n",
              "    <tr>\n",
              "      <th>0</th>\n",
              "      <td>1/3/2017</td>\n",
              "      <td>0.53</td>\n",
              "      <td>-0.24</td>\n",
              "      <td>0.33</td>\n",
              "      <td>-0.28</td>\n",
              "      <td>0.11</td>\n",
              "      <td>0.0</td>\n",
              "      <td>0.199210</td>\n",
              "      <td>2257.83</td>\n",
              "      <td>1.92</td>\n",
              "      <td>...</td>\n",
              "      <td>0</td>\n",
              "      <td>0</td>\n",
              "      <td>116.029999</td>\n",
              "      <td>117.839996</td>\n",
              "      <td>115.510002</td>\n",
              "      <td>116.860001</td>\n",
              "      <td>116.860001</td>\n",
              "      <td>20663900</td>\n",
              "      <td>NaN</td>\n",
              "      <td>NaN</td>\n",
              "    </tr>\n",
              "    <tr>\n",
              "      <th>1</th>\n",
              "      <td>1/4/2017</td>\n",
              "      <td>1.03</td>\n",
              "      <td>0.51</td>\n",
              "      <td>0.29</td>\n",
              "      <td>-0.37</td>\n",
              "      <td>-0.10</td>\n",
              "      <td>0.0</td>\n",
              "      <td>0.178190</td>\n",
              "      <td>2270.75</td>\n",
              "      <td>1.93</td>\n",
              "      <td>...</td>\n",
              "      <td>0</td>\n",
              "      <td>0</td>\n",
              "      <td>117.550003</td>\n",
              "      <td>119.660004</td>\n",
              "      <td>117.290001</td>\n",
              "      <td>118.690002</td>\n",
              "      <td>118.690002</td>\n",
              "      <td>19630900</td>\n",
              "      <td>0.015660</td>\n",
              "      <td>NaN</td>\n",
              "    </tr>\n",
              "    <tr>\n",
              "      <th>2</th>\n",
              "      <td>1/5/2017</td>\n",
              "      <td>0.50</td>\n",
              "      <td>0.02</td>\n",
              "      <td>-0.36</td>\n",
              "      <td>0.02</td>\n",
              "      <td>-0.15</td>\n",
              "      <td>0.0</td>\n",
              "      <td>0.157624</td>\n",
              "      <td>2269.00</td>\n",
              "      <td>1.85</td>\n",
              "      <td>...</td>\n",
              "      <td>0</td>\n",
              "      <td>0</td>\n",
              "      <td>118.860001</td>\n",
              "      <td>120.949997</td>\n",
              "      <td>118.320000</td>\n",
              "      <td>120.669998</td>\n",
              "      <td>120.669998</td>\n",
              "      <td>19492200</td>\n",
              "      <td>0.016682</td>\n",
              "      <td>NaN</td>\n",
              "    </tr>\n",
              "    <tr>\n",
              "      <th>3</th>\n",
              "      <td>1/6/2017</td>\n",
              "      <td>-0.24</td>\n",
              "      <td>-0.52</td>\n",
              "      <td>-0.49</td>\n",
              "      <td>-0.06</td>\n",
              "      <td>-0.16</td>\n",
              "      <td>0.0</td>\n",
              "      <td>0.137503</td>\n",
              "      <td>2276.98</td>\n",
              "      <td>1.89</td>\n",
              "      <td>...</td>\n",
              "      <td>0</td>\n",
              "      <td>0</td>\n",
              "      <td>120.980003</td>\n",
              "      <td>123.879997</td>\n",
              "      <td>120.029999</td>\n",
              "      <td>123.410004</td>\n",
              "      <td>123.410004</td>\n",
              "      <td>28545300</td>\n",
              "      <td>0.022707</td>\n",
              "      <td>NaN</td>\n",
              "    </tr>\n",
              "    <tr>\n",
              "      <th>4</th>\n",
              "      <td>1/9/2017</td>\n",
              "      <td>-0.11</td>\n",
              "      <td>0.04</td>\n",
              "      <td>-0.61</td>\n",
              "      <td>0.32</td>\n",
              "      <td>-0.34</td>\n",
              "      <td>0.0</td>\n",
              "      <td>0.079457</td>\n",
              "      <td>2268.90</td>\n",
              "      <td>1.88</td>\n",
              "      <td>...</td>\n",
              "      <td>0</td>\n",
              "      <td>0</td>\n",
              "      <td>123.550003</td>\n",
              "      <td>125.430000</td>\n",
              "      <td>123.040001</td>\n",
              "      <td>124.900002</td>\n",
              "      <td>124.900002</td>\n",
              "      <td>22880400</td>\n",
              "      <td>0.012074</td>\n",
              "      <td>NaN</td>\n",
              "    </tr>\n",
              "  </tbody>\n",
              "</table>\n",
              "<p>5 rows × 45 columns</p>\n",
              "</div>\n",
              "    <div class=\"colab-df-buttons\">\n",
              "\n",
              "  <div class=\"colab-df-container\">\n",
              "    <button class=\"colab-df-convert\" onclick=\"convertToInteractive('df-2eb07a6d-c5ca-4cca-9cff-8a36a04aea2b')\"\n",
              "            title=\"Convert this dataframe to an interactive table.\"\n",
              "            style=\"display:none;\">\n",
              "\n",
              "  <svg xmlns=\"http://www.w3.org/2000/svg\" height=\"24px\" viewBox=\"0 -960 960 960\">\n",
              "    <path d=\"M120-120v-720h720v720H120Zm60-500h600v-160H180v160Zm220 220h160v-160H400v160Zm0 220h160v-160H400v160ZM180-400h160v-160H180v160Zm440 0h160v-160H620v160ZM180-180h160v-160H180v160Zm440 0h160v-160H620v160Z\"/>\n",
              "  </svg>\n",
              "    </button>\n",
              "\n",
              "  <style>\n",
              "    .colab-df-container {\n",
              "      display:flex;\n",
              "      gap: 12px;\n",
              "    }\n",
              "\n",
              "    .colab-df-convert {\n",
              "      background-color: #E8F0FE;\n",
              "      border: none;\n",
              "      border-radius: 50%;\n",
              "      cursor: pointer;\n",
              "      display: none;\n",
              "      fill: #1967D2;\n",
              "      height: 32px;\n",
              "      padding: 0 0 0 0;\n",
              "      width: 32px;\n",
              "    }\n",
              "\n",
              "    .colab-df-convert:hover {\n",
              "      background-color: #E2EBFA;\n",
              "      box-shadow: 0px 1px 2px rgba(60, 64, 67, 0.3), 0px 1px 3px 1px rgba(60, 64, 67, 0.15);\n",
              "      fill: #174EA6;\n",
              "    }\n",
              "\n",
              "    .colab-df-buttons div {\n",
              "      margin-bottom: 4px;\n",
              "    }\n",
              "\n",
              "    [theme=dark] .colab-df-convert {\n",
              "      background-color: #3B4455;\n",
              "      fill: #D2E3FC;\n",
              "    }\n",
              "\n",
              "    [theme=dark] .colab-df-convert:hover {\n",
              "      background-color: #434B5C;\n",
              "      box-shadow: 0px 1px 3px 1px rgba(0, 0, 0, 0.15);\n",
              "      filter: drop-shadow(0px 1px 2px rgba(0, 0, 0, 0.3));\n",
              "      fill: #FFFFFF;\n",
              "    }\n",
              "  </style>\n",
              "\n",
              "    <script>\n",
              "      const buttonEl =\n",
              "        document.querySelector('#df-2eb07a6d-c5ca-4cca-9cff-8a36a04aea2b button.colab-df-convert');\n",
              "      buttonEl.style.display =\n",
              "        google.colab.kernel.accessAllowed ? 'block' : 'none';\n",
              "\n",
              "      async function convertToInteractive(key) {\n",
              "        const element = document.querySelector('#df-2eb07a6d-c5ca-4cca-9cff-8a36a04aea2b');\n",
              "        const dataTable =\n",
              "          await google.colab.kernel.invokeFunction('convertToInteractive',\n",
              "                                                    [key], {});\n",
              "        if (!dataTable) return;\n",
              "\n",
              "        const docLinkHtml = 'Like what you see? Visit the ' +\n",
              "          '<a target=\"_blank\" href=https://colab.research.google.com/notebooks/data_table.ipynb>data table notebook</a>'\n",
              "          + ' to learn more about interactive tables.';\n",
              "        element.innerHTML = '';\n",
              "        dataTable['output_type'] = 'display_data';\n",
              "        await google.colab.output.renderOutput(dataTable, element);\n",
              "        const docLink = document.createElement('div');\n",
              "        docLink.innerHTML = docLinkHtml;\n",
              "        element.appendChild(docLink);\n",
              "      }\n",
              "    </script>\n",
              "  </div>\n",
              "\n",
              "\n",
              "<div id=\"df-c303ecec-30c5-47bf-931d-b95a5bcf096e\">\n",
              "  <button class=\"colab-df-quickchart\" onclick=\"quickchart('df-c303ecec-30c5-47bf-931d-b95a5bcf096e')\"\n",
              "            title=\"Suggest charts\"\n",
              "            style=\"display:none;\">\n",
              "\n",
              "<svg xmlns=\"http://www.w3.org/2000/svg\" height=\"24px\"viewBox=\"0 0 24 24\"\n",
              "     width=\"24px\">\n",
              "    <g>\n",
              "        <path d=\"M19 3H5c-1.1 0-2 .9-2 2v14c0 1.1.9 2 2 2h14c1.1 0 2-.9 2-2V5c0-1.1-.9-2-2-2zM9 17H7v-7h2v7zm4 0h-2V7h2v10zm4 0h-2v-4h2v4z\"/>\n",
              "    </g>\n",
              "</svg>\n",
              "  </button>\n",
              "\n",
              "<style>\n",
              "  .colab-df-quickchart {\n",
              "      --bg-color: #E8F0FE;\n",
              "      --fill-color: #1967D2;\n",
              "      --hover-bg-color: #E2EBFA;\n",
              "      --hover-fill-color: #174EA6;\n",
              "      --disabled-fill-color: #AAA;\n",
              "      --disabled-bg-color: #DDD;\n",
              "  }\n",
              "\n",
              "  [theme=dark] .colab-df-quickchart {\n",
              "      --bg-color: #3B4455;\n",
              "      --fill-color: #D2E3FC;\n",
              "      --hover-bg-color: #434B5C;\n",
              "      --hover-fill-color: #FFFFFF;\n",
              "      --disabled-bg-color: #3B4455;\n",
              "      --disabled-fill-color: #666;\n",
              "  }\n",
              "\n",
              "  .colab-df-quickchart {\n",
              "    background-color: var(--bg-color);\n",
              "    border: none;\n",
              "    border-radius: 50%;\n",
              "    cursor: pointer;\n",
              "    display: none;\n",
              "    fill: var(--fill-color);\n",
              "    height: 32px;\n",
              "    padding: 0;\n",
              "    width: 32px;\n",
              "  }\n",
              "\n",
              "  .colab-df-quickchart:hover {\n",
              "    background-color: var(--hover-bg-color);\n",
              "    box-shadow: 0 1px 2px rgba(60, 64, 67, 0.3), 0 1px 3px 1px rgba(60, 64, 67, 0.15);\n",
              "    fill: var(--button-hover-fill-color);\n",
              "  }\n",
              "\n",
              "  .colab-df-quickchart-complete:disabled,\n",
              "  .colab-df-quickchart-complete:disabled:hover {\n",
              "    background-color: var(--disabled-bg-color);\n",
              "    fill: var(--disabled-fill-color);\n",
              "    box-shadow: none;\n",
              "  }\n",
              "\n",
              "  .colab-df-spinner {\n",
              "    border: 2px solid var(--fill-color);\n",
              "    border-color: transparent;\n",
              "    border-bottom-color: var(--fill-color);\n",
              "    animation:\n",
              "      spin 1s steps(1) infinite;\n",
              "  }\n",
              "\n",
              "  @keyframes spin {\n",
              "    0% {\n",
              "      border-color: transparent;\n",
              "      border-bottom-color: var(--fill-color);\n",
              "      border-left-color: var(--fill-color);\n",
              "    }\n",
              "    20% {\n",
              "      border-color: transparent;\n",
              "      border-left-color: var(--fill-color);\n",
              "      border-top-color: var(--fill-color);\n",
              "    }\n",
              "    30% {\n",
              "      border-color: transparent;\n",
              "      border-left-color: var(--fill-color);\n",
              "      border-top-color: var(--fill-color);\n",
              "      border-right-color: var(--fill-color);\n",
              "    }\n",
              "    40% {\n",
              "      border-color: transparent;\n",
              "      border-right-color: var(--fill-color);\n",
              "      border-top-color: var(--fill-color);\n",
              "    }\n",
              "    60% {\n",
              "      border-color: transparent;\n",
              "      border-right-color: var(--fill-color);\n",
              "    }\n",
              "    80% {\n",
              "      border-color: transparent;\n",
              "      border-right-color: var(--fill-color);\n",
              "      border-bottom-color: var(--fill-color);\n",
              "    }\n",
              "    90% {\n",
              "      border-color: transparent;\n",
              "      border-bottom-color: var(--fill-color);\n",
              "    }\n",
              "  }\n",
              "</style>\n",
              "\n",
              "  <script>\n",
              "    async function quickchart(key) {\n",
              "      const quickchartButtonEl =\n",
              "        document.querySelector('#' + key + ' button');\n",
              "      quickchartButtonEl.disabled = true;  // To prevent multiple clicks.\n",
              "      quickchartButtonEl.classList.add('colab-df-spinner');\n",
              "      try {\n",
              "        const charts = await google.colab.kernel.invokeFunction(\n",
              "            'suggestCharts', [key], {});\n",
              "      } catch (error) {\n",
              "        console.error('Error during call to suggestCharts:', error);\n",
              "      }\n",
              "      quickchartButtonEl.classList.remove('colab-df-spinner');\n",
              "      quickchartButtonEl.classList.add('colab-df-quickchart-complete');\n",
              "    }\n",
              "    (() => {\n",
              "      let quickchartButtonEl =\n",
              "        document.querySelector('#df-c303ecec-30c5-47bf-931d-b95a5bcf096e button');\n",
              "      quickchartButtonEl.style.display =\n",
              "        google.colab.kernel.accessAllowed ? 'block' : 'none';\n",
              "    })();\n",
              "  </script>\n",
              "</div>\n",
              "\n",
              "    </div>\n",
              "  </div>\n"
            ]
          },
          "metadata": {},
          "execution_count": 2
        }
      ]
    },
    {
      "cell_type": "code",
      "source": [
        "start_date = datetime(2023,1,1)\n",
        "end_date = datetime(2023,10,31)"
      ],
      "metadata": {
        "id": "Zv70Yc8MkIoU"
      },
      "execution_count": null,
      "outputs": []
    },
    {
      "cell_type": "code",
      "source": [
        "data['DATE'] = pd.to_datetime(data['DATE'])\n",
        "filter = (data['DATE'] >= start_date) & (data['DATE'] <= end_date)\n",
        "data = data.loc[filter]\n",
        "data.head()"
      ],
      "metadata": {
        "colab": {
          "base_uri": "https://localhost:8080/",
          "height": 355
        },
        "id": "3a6WTWjAk-5-",
        "outputId": "f59ad9b4-a19c-4631-83e9-97ea2e813169"
      },
      "execution_count": null,
      "outputs": [
        {
          "output_type": "execute_result",
          "data": {
            "text/plain": [
              "           DATE  MKT-RF   SMB   HML   RMW   CMA    RF  ADS_INDEX    SP500  \\\n",
              "1510 2023-01-03   -0.38 -0.11 -0.06 -0.25  0.32  0.02   0.045713  3824.14   \n",
              "1511 2023-01-04    0.90 -0.41  0.05 -0.74 -0.14  0.02   0.089794  3852.97   \n",
              "1512 2023-01-05   -0.98  0.22  0.69  0.18  0.49  0.02   0.131008  3808.10   \n",
              "1513 2023-01-06    2.11 -0.32 -0.09  0.42  0.00  0.02   0.169369  3895.08   \n",
              "1514 2023-01-09    0.48  0.46 -0.82  0.01 -0.89  0.02   0.267322  3892.09   \n",
              "\n",
              "      T10Y3M  ...  USRECDM  USRECDP   META_OPEN   META_HIGH    META_LOW  \\\n",
              "1510   -0.74  ...        0        0  122.820000  126.370003  122.279999   \n",
              "1511   -0.86  ...        0        0  127.379997  129.050003  125.849998   \n",
              "1512   -0.95  ...        0        0  126.129997  128.520004  124.540001   \n",
              "1513   -1.12  ...        0        0  128.970001  130.330002  126.040001   \n",
              "1514   -1.17  ...        0        0  131.160004  132.949997  129.279999   \n",
              "\n",
              "      META_CLOSE  META_ADJ CLOSE  META_VOLUME  META_DAILY_RETURN   META_RSI  \n",
              "1510  124.739998      124.739998     35528500           0.036563  60.008232  \n",
              "1511  127.370003      127.370003     32397100           0.021084  62.736570  \n",
              "1512  126.940002      126.940002     25447100          -0.003376  61.991907  \n",
              "1513  130.020004      130.020004     27584500           0.024263  65.180022  \n",
              "1514  129.470001      129.470001     26649100          -0.004230  64.145305  \n",
              "\n",
              "[5 rows x 45 columns]"
            ],
            "text/html": [
              "\n",
              "  <div id=\"df-f3de9e37-17ce-4936-ab8d-d65c1222db7b\" class=\"colab-df-container\">\n",
              "    <div>\n",
              "<style scoped>\n",
              "    .dataframe tbody tr th:only-of-type {\n",
              "        vertical-align: middle;\n",
              "    }\n",
              "\n",
              "    .dataframe tbody tr th {\n",
              "        vertical-align: top;\n",
              "    }\n",
              "\n",
              "    .dataframe thead th {\n",
              "        text-align: right;\n",
              "    }\n",
              "</style>\n",
              "<table border=\"1\" class=\"dataframe\">\n",
              "  <thead>\n",
              "    <tr style=\"text-align: right;\">\n",
              "      <th></th>\n",
              "      <th>DATE</th>\n",
              "      <th>MKT-RF</th>\n",
              "      <th>SMB</th>\n",
              "      <th>HML</th>\n",
              "      <th>RMW</th>\n",
              "      <th>CMA</th>\n",
              "      <th>RF</th>\n",
              "      <th>ADS_INDEX</th>\n",
              "      <th>SP500</th>\n",
              "      <th>T10Y3M</th>\n",
              "      <th>...</th>\n",
              "      <th>USRECDM</th>\n",
              "      <th>USRECDP</th>\n",
              "      <th>META_OPEN</th>\n",
              "      <th>META_HIGH</th>\n",
              "      <th>META_LOW</th>\n",
              "      <th>META_CLOSE</th>\n",
              "      <th>META_ADJ CLOSE</th>\n",
              "      <th>META_VOLUME</th>\n",
              "      <th>META_DAILY_RETURN</th>\n",
              "      <th>META_RSI</th>\n",
              "    </tr>\n",
              "  </thead>\n",
              "  <tbody>\n",
              "    <tr>\n",
              "      <th>1510</th>\n",
              "      <td>2023-01-03</td>\n",
              "      <td>-0.38</td>\n",
              "      <td>-0.11</td>\n",
              "      <td>-0.06</td>\n",
              "      <td>-0.25</td>\n",
              "      <td>0.32</td>\n",
              "      <td>0.02</td>\n",
              "      <td>0.045713</td>\n",
              "      <td>3824.14</td>\n",
              "      <td>-0.74</td>\n",
              "      <td>...</td>\n",
              "      <td>0</td>\n",
              "      <td>0</td>\n",
              "      <td>122.820000</td>\n",
              "      <td>126.370003</td>\n",
              "      <td>122.279999</td>\n",
              "      <td>124.739998</td>\n",
              "      <td>124.739998</td>\n",
              "      <td>35528500</td>\n",
              "      <td>0.036563</td>\n",
              "      <td>60.008232</td>\n",
              "    </tr>\n",
              "    <tr>\n",
              "      <th>1511</th>\n",
              "      <td>2023-01-04</td>\n",
              "      <td>0.90</td>\n",
              "      <td>-0.41</td>\n",
              "      <td>0.05</td>\n",
              "      <td>-0.74</td>\n",
              "      <td>-0.14</td>\n",
              "      <td>0.02</td>\n",
              "      <td>0.089794</td>\n",
              "      <td>3852.97</td>\n",
              "      <td>-0.86</td>\n",
              "      <td>...</td>\n",
              "      <td>0</td>\n",
              "      <td>0</td>\n",
              "      <td>127.379997</td>\n",
              "      <td>129.050003</td>\n",
              "      <td>125.849998</td>\n",
              "      <td>127.370003</td>\n",
              "      <td>127.370003</td>\n",
              "      <td>32397100</td>\n",
              "      <td>0.021084</td>\n",
              "      <td>62.736570</td>\n",
              "    </tr>\n",
              "    <tr>\n",
              "      <th>1512</th>\n",
              "      <td>2023-01-05</td>\n",
              "      <td>-0.98</td>\n",
              "      <td>0.22</td>\n",
              "      <td>0.69</td>\n",
              "      <td>0.18</td>\n",
              "      <td>0.49</td>\n",
              "      <td>0.02</td>\n",
              "      <td>0.131008</td>\n",
              "      <td>3808.10</td>\n",
              "      <td>-0.95</td>\n",
              "      <td>...</td>\n",
              "      <td>0</td>\n",
              "      <td>0</td>\n",
              "      <td>126.129997</td>\n",
              "      <td>128.520004</td>\n",
              "      <td>124.540001</td>\n",
              "      <td>126.940002</td>\n",
              "      <td>126.940002</td>\n",
              "      <td>25447100</td>\n",
              "      <td>-0.003376</td>\n",
              "      <td>61.991907</td>\n",
              "    </tr>\n",
              "    <tr>\n",
              "      <th>1513</th>\n",
              "      <td>2023-01-06</td>\n",
              "      <td>2.11</td>\n",
              "      <td>-0.32</td>\n",
              "      <td>-0.09</td>\n",
              "      <td>0.42</td>\n",
              "      <td>0.00</td>\n",
              "      <td>0.02</td>\n",
              "      <td>0.169369</td>\n",
              "      <td>3895.08</td>\n",
              "      <td>-1.12</td>\n",
              "      <td>...</td>\n",
              "      <td>0</td>\n",
              "      <td>0</td>\n",
              "      <td>128.970001</td>\n",
              "      <td>130.330002</td>\n",
              "      <td>126.040001</td>\n",
              "      <td>130.020004</td>\n",
              "      <td>130.020004</td>\n",
              "      <td>27584500</td>\n",
              "      <td>0.024263</td>\n",
              "      <td>65.180022</td>\n",
              "    </tr>\n",
              "    <tr>\n",
              "      <th>1514</th>\n",
              "      <td>2023-01-09</td>\n",
              "      <td>0.48</td>\n",
              "      <td>0.46</td>\n",
              "      <td>-0.82</td>\n",
              "      <td>0.01</td>\n",
              "      <td>-0.89</td>\n",
              "      <td>0.02</td>\n",
              "      <td>0.267322</td>\n",
              "      <td>3892.09</td>\n",
              "      <td>-1.17</td>\n",
              "      <td>...</td>\n",
              "      <td>0</td>\n",
              "      <td>0</td>\n",
              "      <td>131.160004</td>\n",
              "      <td>132.949997</td>\n",
              "      <td>129.279999</td>\n",
              "      <td>129.470001</td>\n",
              "      <td>129.470001</td>\n",
              "      <td>26649100</td>\n",
              "      <td>-0.004230</td>\n",
              "      <td>64.145305</td>\n",
              "    </tr>\n",
              "  </tbody>\n",
              "</table>\n",
              "<p>5 rows × 45 columns</p>\n",
              "</div>\n",
              "    <div class=\"colab-df-buttons\">\n",
              "\n",
              "  <div class=\"colab-df-container\">\n",
              "    <button class=\"colab-df-convert\" onclick=\"convertToInteractive('df-f3de9e37-17ce-4936-ab8d-d65c1222db7b')\"\n",
              "            title=\"Convert this dataframe to an interactive table.\"\n",
              "            style=\"display:none;\">\n",
              "\n",
              "  <svg xmlns=\"http://www.w3.org/2000/svg\" height=\"24px\" viewBox=\"0 -960 960 960\">\n",
              "    <path d=\"M120-120v-720h720v720H120Zm60-500h600v-160H180v160Zm220 220h160v-160H400v160Zm0 220h160v-160H400v160ZM180-400h160v-160H180v160Zm440 0h160v-160H620v160ZM180-180h160v-160H180v160Zm440 0h160v-160H620v160Z\"/>\n",
              "  </svg>\n",
              "    </button>\n",
              "\n",
              "  <style>\n",
              "    .colab-df-container {\n",
              "      display:flex;\n",
              "      gap: 12px;\n",
              "    }\n",
              "\n",
              "    .colab-df-convert {\n",
              "      background-color: #E8F0FE;\n",
              "      border: none;\n",
              "      border-radius: 50%;\n",
              "      cursor: pointer;\n",
              "      display: none;\n",
              "      fill: #1967D2;\n",
              "      height: 32px;\n",
              "      padding: 0 0 0 0;\n",
              "      width: 32px;\n",
              "    }\n",
              "\n",
              "    .colab-df-convert:hover {\n",
              "      background-color: #E2EBFA;\n",
              "      box-shadow: 0px 1px 2px rgba(60, 64, 67, 0.3), 0px 1px 3px 1px rgba(60, 64, 67, 0.15);\n",
              "      fill: #174EA6;\n",
              "    }\n",
              "\n",
              "    .colab-df-buttons div {\n",
              "      margin-bottom: 4px;\n",
              "    }\n",
              "\n",
              "    [theme=dark] .colab-df-convert {\n",
              "      background-color: #3B4455;\n",
              "      fill: #D2E3FC;\n",
              "    }\n",
              "\n",
              "    [theme=dark] .colab-df-convert:hover {\n",
              "      background-color: #434B5C;\n",
              "      box-shadow: 0px 1px 3px 1px rgba(0, 0, 0, 0.15);\n",
              "      filter: drop-shadow(0px 1px 2px rgba(0, 0, 0, 0.3));\n",
              "      fill: #FFFFFF;\n",
              "    }\n",
              "  </style>\n",
              "\n",
              "    <script>\n",
              "      const buttonEl =\n",
              "        document.querySelector('#df-f3de9e37-17ce-4936-ab8d-d65c1222db7b button.colab-df-convert');\n",
              "      buttonEl.style.display =\n",
              "        google.colab.kernel.accessAllowed ? 'block' : 'none';\n",
              "\n",
              "      async function convertToInteractive(key) {\n",
              "        const element = document.querySelector('#df-f3de9e37-17ce-4936-ab8d-d65c1222db7b');\n",
              "        const dataTable =\n",
              "          await google.colab.kernel.invokeFunction('convertToInteractive',\n",
              "                                                    [key], {});\n",
              "        if (!dataTable) return;\n",
              "\n",
              "        const docLinkHtml = 'Like what you see? Visit the ' +\n",
              "          '<a target=\"_blank\" href=https://colab.research.google.com/notebooks/data_table.ipynb>data table notebook</a>'\n",
              "          + ' to learn more about interactive tables.';\n",
              "        element.innerHTML = '';\n",
              "        dataTable['output_type'] = 'display_data';\n",
              "        await google.colab.output.renderOutput(dataTable, element);\n",
              "        const docLink = document.createElement('div');\n",
              "        docLink.innerHTML = docLinkHtml;\n",
              "        element.appendChild(docLink);\n",
              "      }\n",
              "    </script>\n",
              "  </div>\n",
              "\n",
              "\n",
              "<div id=\"df-b038d92f-a7a6-48e7-8454-6f5a927638e7\">\n",
              "  <button class=\"colab-df-quickchart\" onclick=\"quickchart('df-b038d92f-a7a6-48e7-8454-6f5a927638e7')\"\n",
              "            title=\"Suggest charts\"\n",
              "            style=\"display:none;\">\n",
              "\n",
              "<svg xmlns=\"http://www.w3.org/2000/svg\" height=\"24px\"viewBox=\"0 0 24 24\"\n",
              "     width=\"24px\">\n",
              "    <g>\n",
              "        <path d=\"M19 3H5c-1.1 0-2 .9-2 2v14c0 1.1.9 2 2 2h14c1.1 0 2-.9 2-2V5c0-1.1-.9-2-2-2zM9 17H7v-7h2v7zm4 0h-2V7h2v10zm4 0h-2v-4h2v4z\"/>\n",
              "    </g>\n",
              "</svg>\n",
              "  </button>\n",
              "\n",
              "<style>\n",
              "  .colab-df-quickchart {\n",
              "      --bg-color: #E8F0FE;\n",
              "      --fill-color: #1967D2;\n",
              "      --hover-bg-color: #E2EBFA;\n",
              "      --hover-fill-color: #174EA6;\n",
              "      --disabled-fill-color: #AAA;\n",
              "      --disabled-bg-color: #DDD;\n",
              "  }\n",
              "\n",
              "  [theme=dark] .colab-df-quickchart {\n",
              "      --bg-color: #3B4455;\n",
              "      --fill-color: #D2E3FC;\n",
              "      --hover-bg-color: #434B5C;\n",
              "      --hover-fill-color: #FFFFFF;\n",
              "      --disabled-bg-color: #3B4455;\n",
              "      --disabled-fill-color: #666;\n",
              "  }\n",
              "\n",
              "  .colab-df-quickchart {\n",
              "    background-color: var(--bg-color);\n",
              "    border: none;\n",
              "    border-radius: 50%;\n",
              "    cursor: pointer;\n",
              "    display: none;\n",
              "    fill: var(--fill-color);\n",
              "    height: 32px;\n",
              "    padding: 0;\n",
              "    width: 32px;\n",
              "  }\n",
              "\n",
              "  .colab-df-quickchart:hover {\n",
              "    background-color: var(--hover-bg-color);\n",
              "    box-shadow: 0 1px 2px rgba(60, 64, 67, 0.3), 0 1px 3px 1px rgba(60, 64, 67, 0.15);\n",
              "    fill: var(--button-hover-fill-color);\n",
              "  }\n",
              "\n",
              "  .colab-df-quickchart-complete:disabled,\n",
              "  .colab-df-quickchart-complete:disabled:hover {\n",
              "    background-color: var(--disabled-bg-color);\n",
              "    fill: var(--disabled-fill-color);\n",
              "    box-shadow: none;\n",
              "  }\n",
              "\n",
              "  .colab-df-spinner {\n",
              "    border: 2px solid var(--fill-color);\n",
              "    border-color: transparent;\n",
              "    border-bottom-color: var(--fill-color);\n",
              "    animation:\n",
              "      spin 1s steps(1) infinite;\n",
              "  }\n",
              "\n",
              "  @keyframes spin {\n",
              "    0% {\n",
              "      border-color: transparent;\n",
              "      border-bottom-color: var(--fill-color);\n",
              "      border-left-color: var(--fill-color);\n",
              "    }\n",
              "    20% {\n",
              "      border-color: transparent;\n",
              "      border-left-color: var(--fill-color);\n",
              "      border-top-color: var(--fill-color);\n",
              "    }\n",
              "    30% {\n",
              "      border-color: transparent;\n",
              "      border-left-color: var(--fill-color);\n",
              "      border-top-color: var(--fill-color);\n",
              "      border-right-color: var(--fill-color);\n",
              "    }\n",
              "    40% {\n",
              "      border-color: transparent;\n",
              "      border-right-color: var(--fill-color);\n",
              "      border-top-color: var(--fill-color);\n",
              "    }\n",
              "    60% {\n",
              "      border-color: transparent;\n",
              "      border-right-color: var(--fill-color);\n",
              "    }\n",
              "    80% {\n",
              "      border-color: transparent;\n",
              "      border-right-color: var(--fill-color);\n",
              "      border-bottom-color: var(--fill-color);\n",
              "    }\n",
              "    90% {\n",
              "      border-color: transparent;\n",
              "      border-bottom-color: var(--fill-color);\n",
              "    }\n",
              "  }\n",
              "</style>\n",
              "\n",
              "  <script>\n",
              "    async function quickchart(key) {\n",
              "      const quickchartButtonEl =\n",
              "        document.querySelector('#' + key + ' button');\n",
              "      quickchartButtonEl.disabled = true;  // To prevent multiple clicks.\n",
              "      quickchartButtonEl.classList.add('colab-df-spinner');\n",
              "      try {\n",
              "        const charts = await google.colab.kernel.invokeFunction(\n",
              "            'suggestCharts', [key], {});\n",
              "      } catch (error) {\n",
              "        console.error('Error during call to suggestCharts:', error);\n",
              "      }\n",
              "      quickchartButtonEl.classList.remove('colab-df-spinner');\n",
              "      quickchartButtonEl.classList.add('colab-df-quickchart-complete');\n",
              "    }\n",
              "    (() => {\n",
              "      let quickchartButtonEl =\n",
              "        document.querySelector('#df-b038d92f-a7a6-48e7-8454-6f5a927638e7 button');\n",
              "      quickchartButtonEl.style.display =\n",
              "        google.colab.kernel.accessAllowed ? 'block' : 'none';\n",
              "    })();\n",
              "  </script>\n",
              "</div>\n",
              "\n",
              "    </div>\n",
              "  </div>\n"
            ]
          },
          "metadata": {},
          "execution_count": 4
        }
      ]
    },
    {
      "cell_type": "code",
      "source": [
        "# Copying the data into another variable\n",
        "data2 = data.copy()\n",
        "# Normalizing the data\n",
        "for column in data.columns[1:]:\n",
        "    if column != 'META_ADJ CLOSE':\n",
        "        data2[column] = (data[column] - data[column].mean()) / data[column].std()"
      ],
      "metadata": {
        "id": "-3UEMPufmkQj"
      },
      "execution_count": null,
      "outputs": []
    },
    {
      "cell_type": "code",
      "source": [
        "data2.columns"
      ],
      "metadata": {
        "colab": {
          "base_uri": "https://localhost:8080/"
        },
        "id": "Pk3IW5GTnUnV",
        "outputId": "b4479dde-019d-41e6-c32a-3ade060a8124"
      },
      "execution_count": null,
      "outputs": [
        {
          "output_type": "execute_result",
          "data": {
            "text/plain": [
              "Index(['DATE', 'MKT-RF', 'SMB', 'HML', 'RMW', 'CMA', 'RF', 'ADS_INDEX',\n",
              "       'SP500', 'T10Y3M', 'OBMMIJUMBO30YF', 'DEXUSEU', 'DEXJPUS', 'DEXUSUK',\n",
              "       'CBBTCUSD', 'CBETHUSD', 'T10YIE_X', 'DCOILBRENTEU', 'VIXCLS', 'DAAA',\n",
              "       'DBAA', 'NIKKEI225', 'AMERIBOR', 'T10YIE_Y', 'T5YIE', 'BAMLH0A0HYM2',\n",
              "       'BAMLH0A0HYM2EY', 'DGS10', 'DGS1', 'RIFSPPFAAD90NB', 'DCPN3M', 'DCPF1M',\n",
              "       'DCOILWTICO', 'DHHNGSP', 'USRECD', 'USRECDM', 'USRECDP', 'META_OPEN',\n",
              "       'META_HIGH', 'META_LOW', 'META_CLOSE', 'META_ADJ CLOSE', 'META_VOLUME',\n",
              "       'META_DAILY_RETURN', 'META_RSI'],\n",
              "      dtype='object')"
            ]
          },
          "metadata": {},
          "execution_count": 6
        }
      ]
    },
    {
      "cell_type": "code",
      "source": [
        "# Splitting the dataset into X and y\n",
        "X = data2.drop(columns=['DATE', 'META_OPEN', 'META_HIGH', 'META_LOW', 'META_CLOSE', 'META_ADJ CLOSE', 'META_DAILY_RETURN']).fillna(method='bfill')  # Dropping non-numeric columns\n",
        "X = sm.add_constant(X)\n",
        "y = data2['META_ADJ CLOSE']"
      ],
      "metadata": {
        "id": "GDvyNDohOE2R"
      },
      "execution_count": null,
      "outputs": []
    },
    {
      "cell_type": "code",
      "source": [
        "# Check for null values in each column\n",
        "null_columns = np.isnan(X).any(axis=0)\n",
        "null_columns"
      ],
      "metadata": {
        "colab": {
          "base_uri": "https://localhost:8080/"
        },
        "id": "x496xkPcqAi5",
        "outputId": "e09bc9dc-ebfe-42ac-8878-a3a1bed45b94"
      },
      "execution_count": null,
      "outputs": [
        {
          "output_type": "execute_result",
          "data": {
            "text/plain": [
              "MKT-RF            False\n",
              "SMB               False\n",
              "HML               False\n",
              "RMW               False\n",
              "CMA               False\n",
              "RF                False\n",
              "ADS_INDEX         False\n",
              "SP500             False\n",
              "T10Y3M            False\n",
              "OBMMIJUMBO30YF    False\n",
              "DEXUSEU           False\n",
              "DEXJPUS           False\n",
              "DEXUSUK           False\n",
              "CBBTCUSD          False\n",
              "CBETHUSD          False\n",
              "T10YIE_X          False\n",
              "DCOILBRENTEU      False\n",
              "VIXCLS            False\n",
              "DAAA              False\n",
              "DBAA              False\n",
              "NIKKEI225         False\n",
              "AMERIBOR          False\n",
              "T10YIE_Y          False\n",
              "T5YIE             False\n",
              "BAMLH0A0HYM2      False\n",
              "BAMLH0A0HYM2EY    False\n",
              "DGS10             False\n",
              "DGS1              False\n",
              "RIFSPPFAAD90NB    False\n",
              "DCPN3M            False\n",
              "DCPF1M             True\n",
              "DCOILWTICO        False\n",
              "DHHNGSP           False\n",
              "USRECD             True\n",
              "USRECDM            True\n",
              "USRECDP            True\n",
              "META_VOLUME       False\n",
              "META_RSI          False\n",
              "dtype: bool"
            ]
          },
          "metadata": {},
          "execution_count": 8
        }
      ]
    },
    {
      "cell_type": "code",
      "source": [
        "imputer = SimpleImputer(strategy='median')\n",
        "X = imputer.fit_transform(X)"
      ],
      "metadata": {
        "id": "5V6J3a1Wqg5p"
      },
      "execution_count": null,
      "outputs": []
    },
    {
      "cell_type": "code",
      "source": [
        "print('Shape of X:', X.shape)\n",
        "print('Shape of y:', y.shape)"
      ],
      "metadata": {
        "colab": {
          "base_uri": "https://localhost:8080/"
        },
        "id": "c9aB4OJin_fj",
        "outputId": "ac6b914e-4d86-452f-a5ba-5ec4ede05700"
      },
      "execution_count": null,
      "outputs": [
        {
          "output_type": "stream",
          "name": "stdout",
          "text": [
            "Shape of X: (209, 35)\n",
            "Shape of y: (209,)\n"
          ]
        }
      ]
    },
    {
      "cell_type": "code",
      "source": [
        "# Check for null values in each column\n",
        "null_columns = np.isnan(X).any(axis=0)\n",
        "null_columns"
      ],
      "metadata": {
        "colab": {
          "base_uri": "https://localhost:8080/"
        },
        "id": "NMnqxruHqpa0",
        "outputId": "78fb2da3-096e-4016-baa6-9c6c396ef958"
      },
      "execution_count": null,
      "outputs": [
        {
          "output_type": "execute_result",
          "data": {
            "text/plain": [
              "array([False, False, False, False, False, False, False, False, False,\n",
              "       False, False, False, False, False, False, False, False, False,\n",
              "       False, False, False, False, False, False, False, False, False,\n",
              "       False, False, False, False, False, False, False, False])"
            ]
          },
          "metadata": {},
          "execution_count": 11
        }
      ]
    },
    {
      "cell_type": "code",
      "source": [
        "# Splitting the dataset\n",
        "X_train, X_test, y_train, y_test = train_test_split(X, y, test_size=0.2, random_state=0)"
      ],
      "metadata": {
        "id": "zHJ5iSFTOQe3"
      },
      "execution_count": null,
      "outputs": []
    },
    {
      "cell_type": "code",
      "source": [
        "# ------------------------------------------------------------------------------\n",
        "# Benchmark Model\n",
        "# ------------------------------------------------------------------------------\n",
        "\n",
        "benchmark_prep = sm.OLS(y, X).fit()\n",
        "benchmark_prep.summary()\n",
        "\n",
        "# Create a boolean mask with the same number of columns as X\n",
        "boolean_mask_benchmark = np.abs(benchmark_prep.tvalues) >= 1.96\n",
        "\n",
        "# Select columns from X based on the boolean mask\n",
        "x_benchmark = X[:, boolean_mask_benchmark]\n",
        "\n",
        "# Get the column names from the original DataFrame (data2)\n",
        "column_names = data2.columns\n",
        "\n",
        "# Extract selected features based on the benchmark model mask\n",
        "selected_features_benchmark = [column_names[i] for i, mask in enumerate(boolean_mask_benchmark) if mask]\n",
        "\n",
        "# Continue with the rest of your code\n",
        "benchmark = sm.OLS(y, x_benchmark).fit()\n",
        "print(benchmark.summary())\n",
        "y_hat_benchmark1 = benchmark.predict(x_benchmark)\n",
        "corr_benchmark1 = ss.pearsonr(y_hat_benchmark1, y)[0]\n",
        "print('\\nBenchmark: corr(Y, Y_pred) = ' + str(corr_benchmark1))\n",
        "print('Hard Thresholding selected ' + str(np.sum(boolean_mask_benchmark)) + ' features in the benchmark model.')\n",
        "print('Selected features in the benchmark model:', selected_features_benchmark)"
      ],
      "metadata": {
        "colab": {
          "base_uri": "https://localhost:8080/"
        },
        "id": "F70pQ-97RFjJ",
        "outputId": "76108e51-a42f-4a9d-a409-fab8bf3d8999"
      },
      "execution_count": null,
      "outputs": [
        {
          "output_type": "stream",
          "name": "stdout",
          "text": [
            "                            OLS Regression Results                            \n",
            "==============================================================================\n",
            "Dep. Variable:         META_ADJ CLOSE   R-squared:                       0.994\n",
            "Model:                            OLS   Adj. R-squared:                  0.994\n",
            "Method:                 Least Squares   F-statistic:                     2500.\n",
            "Date:                Thu, 14 Dec 2023   Prob (F-statistic):          1.14e-210\n",
            "Time:                        06:45:04   Log-Likelihood:                -605.62\n",
            "No. Observations:                 209   AIC:                             1241.\n",
            "Df Residuals:                     194   BIC:                             1291.\n",
            "Df Model:                          14                                         \n",
            "Covariance Type:            nonrobust                                         \n",
            "==============================================================================\n",
            "                 coef    std err          t      P>|t|      [0.025      0.975]\n",
            "------------------------------------------------------------------------------\n",
            "x1           243.7038      0.760    320.549      0.000     242.204     245.203\n",
            "x2            16.7235      1.731      9.661      0.000      13.310      20.137\n",
            "x3            -3.1537      1.343     -2.348      0.020      -5.802      -0.505\n",
            "x4             2.3918      0.876      2.732      0.007       0.665       4.119\n",
            "x5             3.8450      0.670      5.739      0.000       2.524       5.166\n",
            "x6             2.8540      0.911      3.133      0.002       1.057       4.651\n",
            "x7            -2.2817      1.795     -1.271      0.205      -5.821       1.258\n",
            "x8            14.2258      1.315     10.817      0.000      11.632      16.820\n",
            "x9           -13.0013      2.276     -5.713      0.000     -17.490      -8.513\n",
            "x10           16.5878      2.206      7.520      0.000      12.237      20.938\n",
            "x11           -5.2004      1.827     -2.847      0.005      -8.803      -1.598\n",
            "x12            5.2425      1.553      3.376      0.001       2.179       8.306\n",
            "x13           12.8349      2.108      6.088      0.000       8.677      16.993\n",
            "x14           10.1407      1.948      5.205      0.000       6.299      13.983\n",
            "x15            9.1033      0.531     17.137      0.000       8.056      10.151\n",
            "==============================================================================\n",
            "Omnibus:                        7.378   Durbin-Watson:                   0.823\n",
            "Prob(Omnibus):                  0.025   Jarque-Bera (JB):                7.158\n",
            "Skew:                           0.438   Prob(JB):                       0.0279\n",
            "Kurtosis:                       3.235   Cond. No.                         32.7\n",
            "==============================================================================\n",
            "\n",
            "Notes:\n",
            "[1] Standard Errors assume that the covariance matrix of the errors is correctly specified.\n",
            "\n",
            "Benchmark: corr(Y, Y_pred) = 0.9972396349697508\n",
            "Hard Thresholding selected 15 features in the benchmark model.\n",
            "Selected features in the benchmark model: ['CMA', 'ADS_INDEX', 'SP500', 'OBMMIJUMBO30YF', 'DEXUSUK', 'DCOILBRENTEU', 'DBAA', 'NIKKEI225', 'T5YIE', 'BAMLH0A0HYM2', 'DGS10', 'DGS1', 'RIFSPPFAAD90NB', 'DCPN3M', 'USRECD']\n"
          ]
        }
      ]
    },
    {
      "cell_type": "code",
      "source": [
        "from sklearn.linear_model import LassoLars\n",
        "import statsmodels.api as sm\n",
        "import numpy as np\n",
        "\n",
        "# Assuming X and y are your features and target variable, and data2 is your DataFrame\n",
        "\n",
        "# Step 1: Run LassoLars Regression and obtain coefficients\n",
        "alpha = 0.5  # Adjust alpha as needed\n",
        "lasso_lars_model = LassoLars(alpha=alpha, fit_intercept=False).fit(X, y)\n",
        "\n",
        "# Create a boolean mask for selecting columns based on the coefficients\n",
        "boolean_mask = np.abs(lasso_lars_model.coef_) >= 0.001\n",
        "\n",
        "# Get the column names from the original DataFrame (data2)\n",
        "column_names = data2.columns\n",
        "\n",
        "# Select columns from X based on the boolean mask\n",
        "x_selected = X[:, boolean_mask]\n",
        "\n",
        "# Step 2: Run OLS with selected features\n",
        "model_lasso_lars = sm.OLS(y, x_selected).fit()\n",
        "print(model_lasso_lars.summary())\n",
        "y_pred_lasso_lars = model_lasso_lars.predict(x_selected)\n",
        "corr_lasso_lars = np.corrcoef(y_pred_lasso_lars, y)[0, 1]\n",
        "\n",
        "# Print the selected features using the column_names list\n",
        "selected_features = [column_names[i] for i, mask in enumerate(boolean_mask) if mask]\n",
        "print('LassoLars: corr (Y, Y_pred) = ' + str(corr_lasso_lars))\n",
        "print('LassoLars selected ' + str(len(selected_features)) + ' features: ', selected_features)\n"
      ],
      "metadata": {
        "colab": {
          "base_uri": "https://localhost:8080/"
        },
        "id": "8HA6kHdaq6w4",
        "outputId": "fb1ab6a5-23ab-43fc-d726-80a438292b04"
      },
      "execution_count": null,
      "outputs": [
        {
          "output_type": "stream",
          "name": "stdout",
          "text": [
            "                            OLS Regression Results                            \n",
            "==============================================================================\n",
            "Dep. Variable:         META_ADJ CLOSE   R-squared:                       0.994\n",
            "Model:                            OLS   Adj. R-squared:                  0.994\n",
            "Method:                 Least Squares   F-statistic:                     2450.\n",
            "Date:                Thu, 14 Dec 2023   Prob (F-statistic):          7.79e-210\n",
            "Time:                        06:45:04   Log-Likelihood:                -607.69\n",
            "No. Observations:                 209   AIC:                             1245.\n",
            "Df Residuals:                     194   BIC:                             1296.\n",
            "Df Model:                          14                                         \n",
            "Covariance Type:            nonrobust                                         \n",
            "==============================================================================\n",
            "                 coef    std err          t      P>|t|      [0.025      0.975]\n",
            "------------------------------------------------------------------------------\n",
            "x1             0.8401      0.338      2.487      0.014       0.174       1.506\n",
            "x2           243.7008      0.703    346.421      0.000     242.313     245.088\n",
            "x3            16.1474      1.607     10.045      0.000      12.977      19.318\n",
            "x4             2.3054      1.433      1.608      0.109      -0.522       5.132\n",
            "x5             5.4611      0.532     10.273      0.000       4.413       6.510\n",
            "x6            -3.3767      2.657     -1.271      0.205      -8.616       1.863\n",
            "x7            14.3135      1.479      9.677      0.000      11.396      17.231\n",
            "x8             5.1604      1.072      4.815      0.000       3.047       7.274\n",
            "x9             5.2167      2.640      1.976      0.050       0.010      10.423\n",
            "x10            3.1065      1.589      1.955      0.052      -0.027       6.240\n",
            "x11           12.4540      1.979      6.292      0.000       8.550      16.358\n",
            "x12           10.8689      1.982      5.482      0.000       6.959      14.779\n",
            "x13            0.7845      0.736      1.066      0.288      -0.667       2.235\n",
            "x14            2.0447      0.485      4.215      0.000       1.088       3.001\n",
            "x15            8.3193      0.514     16.190      0.000       7.306       9.333\n",
            "==============================================================================\n",
            "Omnibus:                        0.602   Durbin-Watson:                   0.710\n",
            "Prob(Omnibus):                  0.740   Jarque-Bera (JB):                0.736\n",
            "Skew:                           0.093   Prob(JB):                        0.692\n",
            "Kurtosis:                       2.777   Cond. No.                         34.1\n",
            "==============================================================================\n",
            "\n",
            "Notes:\n",
            "[1] Standard Errors assume that the covariance matrix of the errors is correctly specified.\n",
            "LassoLars: corr (Y, Y_pred) = 0.9971842922557649\n",
            "LassoLars selected 15 features:  ['HML', 'CMA', 'ADS_INDEX', 'T10Y3M', 'DEXUSUK', 'VIXCLS', 'NIKKEI225', 'BAMLH0A0HYM2', 'BAMLH0A0HYM2EY', 'DGS1', 'RIFSPPFAAD90NB', 'DCPN3M', 'DCPF1M', 'DCOILWTICO', 'USRECD']\n"
          ]
        }
      ]
    },
    {
      "cell_type": "code",
      "source": [
        "selected_features"
      ],
      "metadata": {
        "colab": {
          "base_uri": "https://localhost:8080/"
        },
        "id": "fYM4NmfgUX4I",
        "outputId": "91446615-fc1f-44b9-d29e-26f504934533"
      },
      "execution_count": null,
      "outputs": [
        {
          "output_type": "execute_result",
          "data": {
            "text/plain": [
              "['HML',\n",
              " 'CMA',\n",
              " 'ADS_INDEX',\n",
              " 'T10Y3M',\n",
              " 'DEXUSUK',\n",
              " 'VIXCLS',\n",
              " 'NIKKEI225',\n",
              " 'BAMLH0A0HYM2',\n",
              " 'BAMLH0A0HYM2EY',\n",
              " 'DGS1',\n",
              " 'RIFSPPFAAD90NB',\n",
              " 'DCPN3M',\n",
              " 'DCPF1M',\n",
              " 'DCOILWTICO',\n",
              " 'USRECD']"
            ]
          },
          "metadata": {},
          "execution_count": 15
        }
      ]
    },
    {
      "cell_type": "code",
      "source": [
        "from sklearn.linear_model import LassoLars\n",
        "import statsmodels.api as sm\n",
        "import numpy as np\n",
        "import pandas as pd\n",
        "\n",
        "# [Previous code to fit LassoLars and select features]\n",
        "\n",
        "k = 25\n",
        "\n",
        "# Get the coefficients for the selected features\n",
        "selected_coefficients = lasso_lars_model.coef_[boolean_mask]\n",
        "\n",
        "# Create a DataFrame to associate coefficients with feature names\n",
        "feature_importance_df = pd.DataFrame({'Feature Name': selected_features, 'Coefficient': selected_coefficients})\n",
        "\n",
        "# Sort the features by absolute coefficient value in descending order\n",
        "feature_importance_df = feature_importance_df.reindex(feature_importance_df['Coefficient'].abs().sort_values(ascending=False).index)\n",
        "\n",
        "print(feature_importance_df)\n"
      ],
      "metadata": {
        "colab": {
          "base_uri": "https://localhost:8080/"
        },
        "id": "xG8nkxKssItP",
        "outputId": "afa8ded3-6a35-4096-f8d2-02fa0801e431"
      },
      "execution_count": null,
      "outputs": [
        {
          "output_type": "stream",
          "name": "stdout",
          "text": [
            "      Feature Name  Coefficient\n",
            "1              CMA   241.329199\n",
            "10  RIFSPPFAAD90NB    18.417223\n",
            "2        ADS_INDEX    13.845410\n",
            "6        NIKKEI225    12.506569\n",
            "11          DCPN3M     7.271761\n",
            "14          USRECD     6.291976\n",
            "4          DEXUSUK     5.087391\n",
            "9             DGS1     3.533260\n",
            "8   BAMLH0A0HYM2EY     2.802834\n",
            "3           T10Y3M     2.633226\n",
            "7     BAMLH0A0HYM2     2.200182\n",
            "13      DCOILWTICO     0.895414\n",
            "12          DCPF1M     0.633804\n",
            "5           VIXCLS     0.290950\n",
            "0              HML     0.239179\n"
          ]
        }
      ]
    },
    {
      "cell_type": "code",
      "source": [
        "feature_importance_df.sort_values(by='Coefficient', ascending=False, inplace=True)\n",
        "\n",
        "# Plotting the feature importances\n",
        "plt.figure(figsize=(10, 6))\n",
        "plt.bar(feature_importance_df['Feature Name'], feature_importance_df['Coefficient'])\n",
        "plt.xticks(rotation=90)\n",
        "plt.xlabel('Features')\n",
        "plt.ylabel('Absolute Coefficient Value')\n",
        "plt.title('Feature Importance from Lars Regression')\n",
        "plt.show()"
      ],
      "metadata": {
        "colab": {
          "base_uri": "https://localhost:8080/",
          "height": 683
        },
        "id": "s6rl87glATLD",
        "outputId": "3ce4e6d6-65a7-4c68-eba1-2197b9d684a1"
      },
      "execution_count": null,
      "outputs": [
        {
          "output_type": "display_data",
          "data": {
            "text/plain": [
              "<Figure size 1000x600 with 1 Axes>"
            ],
            "image/png": "[encoded data removed]"
          },
          "metadata": {}
        }
      ]
    },
    {
      "cell_type": "code",
      "source": [
        "# Select the top k features\n",
        "top_features = feature_importance_df['Feature Name'][:k]\n",
        "print(top_features)"
      ],
      "metadata": {
        "colab": {
          "base_uri": "https://localhost:8080/"
        },
        "id": "K5m246I5-rb7",
        "outputId": "ef23efcf-c8bd-44f4-9edc-8d29e1f0b1a5"
      },
      "execution_count": null,
      "outputs": [
        {
          "output_type": "stream",
          "name": "stdout",
          "text": [
            "1                CMA\n",
            "10    RIFSPPFAAD90NB\n",
            "2          ADS_INDEX\n",
            "6          NIKKEI225\n",
            "11            DCPN3M\n",
            "14            USRECD\n",
            "4            DEXUSUK\n",
            "9               DGS1\n",
            "8     BAMLH0A0HYM2EY\n",
            "3             T10Y3M\n",
            "7       BAMLH0A0HYM2\n",
            "13        DCOILWTICO\n",
            "12            DCPF1M\n",
            "5             VIXCLS\n",
            "0                HML\n",
            "Name: Feature Name, dtype: object\n"
          ]
        }
      ]
    },
    {
      "cell_type": "code",
      "source": [
        "# Filter X_train and X_test to include only the top features\n",
        "X_selected = X[:, [selected_features.index(feature) for feature in top_features]]\n",
        "X_train_selected = X_train[:, [selected_features.index(feature) for feature in top_features]]\n",
        "X_test_selected = X_test[:, [selected_features.index(feature) for feature in top_features]]"
      ],
      "metadata": {
        "id": "b6xC__VIReia"
      },
      "execution_count": null,
      "outputs": []
    },
    {
      "cell_type": "code",
      "source": [
        "#####################################################\n",
        "# Hyperparameter Tuning\n",
        "#####################################################\n",
        "\n",
        "\n",
        "# Define a range of alpha values to test\n",
        "alphas = np.logspace(-6, 6, 200)\n",
        "best_alpha = None\n",
        "best_score = float('inf')\n",
        "\n",
        "# Iterate over alpha values\n",
        "for alpha in alphas:\n",
        "    model = LassoLars(alpha=alpha, fit_intercept=False)\n",
        "    scores = cross_val_score(model, X_train_selected, y_train, cv=5, scoring='neg_mean_squared_error')\n",
        "    mean_score = -scores.mean()  # Convert to positive mean squared error\n",
        "\n",
        "    if mean_score < best_score:\n",
        "        best_score = mean_score\n",
        "        best_alpha = alpha\n",
        "\n",
        "print(\"Best alpha value:\", best_alpha)\n",
        "\n",
        "# Optionally, retrain LassoLars model using the best alpha value\n",
        "lasso_lars_model_2 = LassoLars(alpha=best_alpha, fit_intercept=False).fit(X_train_selected, y_train)"
      ],
      "metadata": {
        "colab": {
          "base_uri": "https://localhost:8080/"
        },
        "id": "4KN7_5wuwE8A",
        "outputId": "f3d9fcbf-aa9d-4b5b-bd0a-86d7fe4a7f1f"
      },
      "execution_count": null,
      "outputs": [
        {
          "output_type": "stream",
          "name": "stdout",
          "text": [
            "Best alpha value: 0.0031440354715915\n"
          ]
        }
      ]
    },
    {
      "cell_type": "code",
      "source": [
        "y_hat = lasso_lars_model_2.predict(X_test_selected)\n",
        "y_hat"
      ],
      "metadata": {
        "colab": {
          "base_uri": "https://localhost:8080/"
        },
        "id": "hrAnediW1uJi",
        "outputId": "a1784bad-3e8f-4a3a-c51b-4df1cd6f560d"
      },
      "execution_count": null,
      "outputs": [
        {
          "output_type": "execute_result",
          "data": {
            "text/plain": [
              "array([157.2915063 , 226.8780496 , 184.46812328, 128.4460328 ,\n",
              "       299.39423304, 223.30677858, 287.01600076, 299.75231061,\n",
              "       230.40359443, 304.68316008, 173.76576782, 285.30845612,\n",
              "       198.50097111, 298.33308498, 241.75358773, 227.83283905,\n",
              "       317.52056369, 173.04068542, 224.99486235, 151.4257234 ,\n",
              "       311.9257415 , 157.36209469, 135.03890467, 198.91976708,\n",
              "       230.76115624, 293.9751739 , 308.82612599, 296.60230505,\n",
              "       290.72008714, 289.97943674, 216.30957276, 307.71010974,\n",
              "       298.34407451, 217.30354285, 285.2383518 , 306.09503573,\n",
              "       301.32825267, 296.35650967, 172.94813139, 299.55042483,\n",
              "       283.9596968 , 180.70358809])"
            ]
          },
          "metadata": {},
          "execution_count": 21
        }
      ]
    },
    {
      "cell_type": "code",
      "source": [
        "###############################################################################\n",
        "# Cross Validation:\n",
        "###############################################################################\n",
        "\n",
        "# Perform cross-validation\n",
        "cv_scores = cross_val_score(lasso_lars_model, X, y, cv=5, scoring='neg_mean_squared_error')\n",
        "\n",
        "# Calculate the mean score\n",
        "mean_cv_score = np.mean(cv_scores)\n",
        "\n",
        "# Print the results\n",
        "print(\"Mean Cross-Validation Score:\", mean_cv_score)\n",
        "\n",
        "# Evaluate Model:\n",
        "# Calculate the mean squared error and convert it back to positive\n",
        "mse_scores = -cv_scores\n",
        "mean_mse = np.mean(mse_scores)\n",
        "std_mse = np.std(mse_scores)\n",
        "\n",
        "rmse = np.mean(np.sqrt(np.abs(cv_scores)))\n",
        "std_rmse = np.std(np.sqrt(np.abs(cv_scores)))\n",
        "print(f'MEAN of Mean Squared Error: {mean_mse}')\n",
        "print(f'STD of RMSE Squared Error: {std_rmse}')\n",
        "print(f'Root Mean Squared Error on Test Set: {rmse}')"
      ],
      "metadata": {
        "colab": {
          "base_uri": "https://localhost:8080/"
        },
        "id": "uJBu7p3s2M74",
        "outputId": "fc8e0ecb-a928-46ec-9bfe-cdd8e5a53f9e"
      },
      "execution_count": null,
      "outputs": [
        {
          "output_type": "stream",
          "name": "stdout",
          "text": [
            "Mean Cross-Validation Score: -187.35637861439028\n",
            "MEAN of Mean Squared Error: 187.35637861439028\n",
            "STD of RMSE Squared Error: 1.836219372605393\n",
            "Root Mean Squared Error on Test Set: 13.564095142325527\n"
          ]
        }
      ]
    },
    {
      "cell_type": "markdown",
      "source": [
        "**There is no overfitting in the Ridge Model.**"
      ],
      "metadata": {
        "id": "KJp49Ezo4ldb"
      }
    },
    {
      "cell_type": "code",
      "source": [
        "## Model Evaluation\n",
        "\n",
        "rmse = mean_squared_error(y_test, y_hat, squared=False)\n",
        "rmse"
      ],
      "metadata": {
        "colab": {
          "base_uri": "https://localhost:8080/"
        },
        "id": "54O_m2lV4Vuo",
        "outputId": "cc44d0f3-8a15-4aa8-fe88-18b1cc530a00"
      },
      "execution_count": null,
      "outputs": [
        {
          "output_type": "execute_result",
          "data": {
            "text/plain": [
              "11.483670132975769"
            ]
          },
          "metadata": {},
          "execution_count": 23
        }
      ]
    },
    {
      "cell_type": "markdown",
      "source": [
        "## Trading Signals"
      ],
      "metadata": {
        "id": "r1jlzTRV4_6Z"
      }
    },
    {
      "cell_type": "code",
      "source": [
        "# Creating input data for month of October 2023\n",
        "X_updated = X_selected[-22:]\n",
        "y_updated = y[-22:]"
      ],
      "metadata": {
        "id": "Sq3_-yV35B8Z"
      },
      "execution_count": null,
      "outputs": []
    },
    {
      "cell_type": "code",
      "source": [
        "# Predicting using XGBoost\n",
        "y_pred = lasso_lars_model_2.predict(X_updated)\n",
        "#y_pred"
      ],
      "metadata": {
        "id": "irs8QcwQ5Hkq"
      },
      "execution_count": null,
      "outputs": []
    },
    {
      "cell_type": "code",
      "source": [
        "def TRADING_RULE(P_hat, P, options):\n",
        "    if options == 'BUY HOLD':\n",
        "        return TRADING_RULE_1(P)\n",
        "    elif options == 'LONG SHORT':\n",
        "        return TRADING_RULE_2(P_hat, P)\n",
        "    elif options == 'DAY TRADE':\n",
        "        return TRADING_RULE_3(P_hat, P)\n",
        "\n",
        "def TRADING_RULE_1(P):\n",
        "    T = P.shape[0]\n",
        "    signal = np.zeros(T)\n",
        "    signal[0] = 1\n",
        "    signal[-1] = -1\n",
        "    return signal\n",
        "\n",
        "def TRADING_RULE_2(P_hat, P):\n",
        "    T = P.shape[0]\n",
        "    signal = np.zeros(T)\n",
        "    for t in range(1, T):\n",
        "        if (P_hat[t-1] > P[t-1]) + (P_hat[t] < P[t]) == 2:  # FORCAST > OPEN: LONG\n",
        "            signal[t] = 1\n",
        "        elif (P_hat[t-1] < P[t-1]) + (P_hat[t] > P[t]) == 2:  # FORECAST < OPEN: SHORT\n",
        "            signal[t] = -1\n",
        "    return signal\n",
        "\n",
        "def TRADING_RULE_3(P_hat, P):\n",
        "    T = P.shape[0]\n",
        "    signal = np.zeros(T)\n",
        "    for t in range(1, T):\n",
        "        if P_hat[t] > P[t]:  # FORCAST > OPEN: LONG\n",
        "            signal[t] = 1\n",
        "        elif P_hat[t] < P[t]:  # FORECAST < OPEN: SHORT\n",
        "            signal[t] = -1\n",
        "    return signal"
      ],
      "metadata": {
        "id": "Vjdzqs1O5thb"
      },
      "execution_count": null,
      "outputs": []
    },
    {
      "cell_type": "markdown",
      "source": [],
      "metadata": {
        "id": "uNKRzLi63BSM"
      }
    },
    {
      "cell_type": "code",
      "source": [
        "def calculate_profit_loss(signal, price):\n",
        "    T = len(signal)\n",
        "    position = np.zeros(T)\n",
        "    balance = np.zeros(T)\n",
        "    position[1:] = np.diff(signal)  # Buy (1) or Sell (-1) at each signal change\n",
        "    balance[0] = 10000  # Initial balance\n",
        "    for t in range(1, T):\n",
        "        balance[t] = balance[t - 1] + position[t] * price[t]\n",
        "    return balance\n",
        "\n",
        "# Example usage:\n",
        "# Assume 'price' is a numpy array or list containing the asset prices over time\n",
        "# and 'signal' is the trading signal generated by TRADING_RULE function.\n",
        "\n",
        "# Example price data\n",
        "price = y_updated.values\n",
        "\n",
        "# Example trading signal\n",
        "signal = TRADING_RULE(y_pred, y_updated.values, 'DAY TRADE')\n",
        "\n",
        "# Calculate profit and loss\n",
        "profit_loss = calculate_profit_loss(signal, price)\n",
        "\n",
        "# Display the results\n",
        "print(\"Trading Signal:\", signal)\n",
        "print(\"Asset Prices:\", price)\n",
        "print(\"Profit and Loss:\", profit_loss)"
      ],
      "metadata": {
        "colab": {
          "base_uri": "https://localhost:8080/"
        },
        "id": "lDmEXai1yFXR",
        "outputId": "9b5207d8-a251-48e9-aeaa-56dcacd69e6c"
      },
      "execution_count": null,
      "outputs": [
        {
          "output_type": "stream",
          "name": "stdout",
          "text": [
            "Trading Signal: [ 0. -1. -1. -1. -1. -1. -1. -1. -1. -1. -1. -1. -1. -1. -1.  1.  1.  1.\n",
            "  1.  1.  1.  1.]\n",
            "Asset Prices: [306.8200073 300.9400024 305.5799866 304.7900085 315.4299927 318.3599854\n",
            " 321.8399963 327.8200073 324.1600037 314.6900024 321.1499939 324.\n",
            " 316.9700012 312.8099976 308.6499939 314.0100098 312.5499878 299.5299988\n",
            " 288.3500061 296.730011  302.6600037 301.269989 ]\n",
            "Profit and Loss: [10000.         9699.0599976  9699.0599976  9699.0599976  9699.0599976\n",
            "  9699.0599976  9699.0599976  9699.0599976  9699.0599976  9699.0599976\n",
            "  9699.0599976  9699.0599976  9699.0599976  9699.0599976  9699.0599976\n",
            " 10327.0800172 10327.0800172 10327.0800172 10327.0800172 10327.0800172\n",
            " 10327.0800172 10327.0800172]\n"
          ]
        }
      ]
    },
    {
      "cell_type": "code",
      "source": [
        "trading_signals = signal\n",
        "\n",
        "time_points = np.arange(len(trading_signals))\n",
        "\n",
        "# Plot the trading signals\n",
        "plt.figure(figsize=(10, 4))\n",
        "plt.stem(time_points, trading_signals, basefmt=\" \", markerfmt=\"o\", linefmt=\"-\")\n",
        "plt.title('Trading Signals')\n",
        "plt.xlabel('Time Points')\n",
        "plt.ylabel('Signal')\n",
        "plt.show()"
      ],
      "metadata": {
        "colab": {
          "base_uri": "https://localhost:8080/",
          "height": 410
        },
        "id": "qIhGaIkf59sy",
        "outputId": "7172e2dd-f8d8-4a31-c587-43c8a48d5564"
      },
      "execution_count": null,
      "outputs": [
        {
          "output_type": "display_data",
          "data": {
            "text/plain": [
              "<Figure size 1000x400 with 1 Axes>"
            ],
            "image/png": "[encoded data removed]"
          },
          "metadata": {}
        }
      ]
    },
    {
      "cell_type": "code",
      "source": [
        "# Example trading signals\n",
        "signal1 = TRADING_RULE(y_pred, y_updated.values, 'DAY TRADE')\n",
        "signal2 = TRADING_RULE(y_pred, y_updated.values, 'BUY HOLD')\n",
        "signal3 = TRADING_RULE(y_pred, y_updated.values, 'LONG SHORT')\n",
        "\n",
        "# Calculate profit and loss for each signal\n",
        "profit_loss1 = calculate_profit_loss(signal1, price)\n",
        "profit_loss2 = calculate_profit_loss(signal2, price)\n",
        "profit_loss3 = calculate_profit_loss(signal3, price)\n",
        "\n",
        "# Plotting the results\n",
        "plt.figure(figsize=(12, 6))\n",
        "\n",
        "plt.plot(profit_loss1, label='Day Trade')\n",
        "plt.plot(profit_loss2, label='Buy Hold')\n",
        "plt.plot(profit_loss3, label='Long Short')\n",
        "\n",
        "plt.title('Profit and Loss over Time')\n",
        "plt.xlabel('Time')\n",
        "plt.ylabel('Profit/Loss')\n",
        "plt.legend()\n",
        "\n",
        "plt.show()"
      ],
      "metadata": {
        "colab": {
          "base_uri": "https://localhost:8080/",
          "height": 564
        },
        "id": "1TPOpLdQ3ksL",
        "outputId": "8badfa78-ddb7-4d79-b5c7-774e2ab8fd88"
      },
      "execution_count": null,
      "outputs": [
        {
          "output_type": "display_data",
          "data": {
            "text/plain": [
              "<Figure size 1200x600 with 1 Axes>"
            ],
            "image/png": "[encoded data removed]"
          },
          "metadata": {}
        }
      ]
    },
    {
      "cell_type": "code",
      "source": [
        "Total_Profit = profit_loss[-1] - profit_loss[0]\n",
        "print('Total Profit: $'+ str(np.round(Total_Profit)))"
      ],
      "metadata": {
        "colab": {
          "base_uri": "https://localhost:8080/"
        },
        "id": "Z7vUcHsu6CHl",
        "outputId": "30ffe76c-2d52-4911-e605-642064780ba1"
      },
      "execution_count": null,
      "outputs": [
        {
          "output_type": "stream",
          "name": "stdout",
          "text": [
            "Total Profit: $327.0\n"
          ]
        }
      ]
    }
  ],
  "metadata": {
    "kernelspec": {
      "display_name": "Python 3 (ipykernel)",
      "language": "python",
      "name": "python3"
    },
    "language_info": {
      "codemirror_mode": {
        "name": "ipython",
        "version": 3
      },
      "file_extension": ".py",
      "mimetype": "text/x-python",
      "name": "python",
      "nbconvert_exporter": "python",
      "pygments_lexer": "ipython3",
      "version": "3.8.5"
    },
    "colab": {
      "provenance": []
    }
  },
  "nbformat": 4,
  "nbformat_minor": 0
}