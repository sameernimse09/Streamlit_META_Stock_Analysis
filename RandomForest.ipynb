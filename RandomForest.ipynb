{
 "cells": [
  {
   "cell_type": "code",
   "execution_count": 1,
   "metadata": {},
   "outputs": [],
   "source": [
    "import pandas as pd\n",
    "from datetime import datetime\n",
    "import numpy as np\n",
    "import matplotlib.pyplot as plt\n",
    "import seaborn as sns\n",
    "import yfinance as yf\n",
    "\n",
    "from sklearn.model_selection import cross_val_score\n",
    "from sklearn.ensemble import RandomForestRegressor\n",
    "from sklearn.metrics import mean_squared_error"
   ]
  },
  {
   "cell_type": "code",
   "execution_count": 2,
   "metadata": {},
   "outputs": [],
   "source": [
    "###############################################################################\n",
    "# Figure configuration\n",
    "import matplotlib as mpl\n",
    "plt.rcParams['figure.figsize'] = (16, 6)\n",
    "\n",
    "###############################################################################\n",
    "# Load and Define dataset:\n",
    "start_date = datetime(2020,1,1)\n",
    "end_date = datetime(2023,10,31)\n",
    "DATA_raw = pd.read_csv('META_FeatureMart.csv', index_col = [0])\n",
    "DATA_raw.describe()\n",
    "\n",
    "# copy the data\n",
    "DATA = DATA_raw.copy() \n",
    "# NORMALIZATION\n",
    "for column in DATA_raw.columns[1:]:\n",
    "    if column != 'META_ADJ CLOSE':\n",
    "        DATA[column] = (DATA_raw[column] -\n",
    "                               DATA_raw[column].mean()) / DATA_raw[column].std()  "
   ]
  },
  {
   "cell_type": "code",
   "execution_count": 3,
   "metadata": {},
   "outputs": [
    {
     "data": {
      "text/html": [
       "<div>\n",
       "<style scoped>\n",
       "    .dataframe tbody tr th:only-of-type {\n",
       "        vertical-align: middle;\n",
       "    }\n",
       "\n",
       "    .dataframe tbody tr th {\n",
       "        vertical-align: top;\n",
       "    }\n",
       "\n",
       "    .dataframe thead th {\n",
       "        text-align: right;\n",
       "    }\n",
       "</style>\n",
       "<table border=\"1\" class=\"dataframe\">\n",
       "  <thead>\n",
       "    <tr style=\"text-align: right;\">\n",
       "      <th></th>\n",
       "      <th>DATE</th>\n",
       "      <th>MKT-RF</th>\n",
       "      <th>SMB</th>\n",
       "      <th>HML</th>\n",
       "      <th>RMW</th>\n",
       "      <th>CMA</th>\n",
       "      <th>RF</th>\n",
       "      <th>ADS_INDEX</th>\n",
       "      <th>SP500</th>\n",
       "      <th>T10Y3M</th>\n",
       "      <th>...</th>\n",
       "      <th>USRECDM</th>\n",
       "      <th>USRECDP</th>\n",
       "      <th>META_OPEN</th>\n",
       "      <th>META_HIGH</th>\n",
       "      <th>META_LOW</th>\n",
       "      <th>META_CLOSE</th>\n",
       "      <th>META_ADJ CLOSE</th>\n",
       "      <th>META_VOLUME</th>\n",
       "      <th>META_DAILY_RETURN</th>\n",
       "      <th>META_RSI</th>\n",
       "    </tr>\n",
       "  </thead>\n",
       "  <tbody>\n",
       "    <tr>\n",
       "      <th>0</th>\n",
       "      <td>1/3/2017</td>\n",
       "      <td>0.53</td>\n",
       "      <td>-0.24</td>\n",
       "      <td>0.33</td>\n",
       "      <td>-0.28</td>\n",
       "      <td>0.11</td>\n",
       "      <td>0.0</td>\n",
       "      <td>0.199210</td>\n",
       "      <td>2257.83</td>\n",
       "      <td>1.92</td>\n",
       "      <td>...</td>\n",
       "      <td>0</td>\n",
       "      <td>0</td>\n",
       "      <td>116.029999</td>\n",
       "      <td>117.839996</td>\n",
       "      <td>115.510002</td>\n",
       "      <td>116.860001</td>\n",
       "      <td>116.860001</td>\n",
       "      <td>20663900</td>\n",
       "      <td>NaN</td>\n",
       "      <td>NaN</td>\n",
       "    </tr>\n",
       "    <tr>\n",
       "      <th>1</th>\n",
       "      <td>1/4/2017</td>\n",
       "      <td>1.03</td>\n",
       "      <td>0.51</td>\n",
       "      <td>0.29</td>\n",
       "      <td>-0.37</td>\n",
       "      <td>-0.10</td>\n",
       "      <td>0.0</td>\n",
       "      <td>0.178190</td>\n",
       "      <td>2270.75</td>\n",
       "      <td>1.93</td>\n",
       "      <td>...</td>\n",
       "      <td>0</td>\n",
       "      <td>0</td>\n",
       "      <td>117.550003</td>\n",
       "      <td>119.660004</td>\n",
       "      <td>117.290001</td>\n",
       "      <td>118.690002</td>\n",
       "      <td>118.690002</td>\n",
       "      <td>19630900</td>\n",
       "      <td>0.015660</td>\n",
       "      <td>NaN</td>\n",
       "    </tr>\n",
       "    <tr>\n",
       "      <th>2</th>\n",
       "      <td>1/5/2017</td>\n",
       "      <td>0.50</td>\n",
       "      <td>0.02</td>\n",
       "      <td>-0.36</td>\n",
       "      <td>0.02</td>\n",
       "      <td>-0.15</td>\n",
       "      <td>0.0</td>\n",
       "      <td>0.157624</td>\n",
       "      <td>2269.00</td>\n",
       "      <td>1.85</td>\n",
       "      <td>...</td>\n",
       "      <td>0</td>\n",
       "      <td>0</td>\n",
       "      <td>118.860001</td>\n",
       "      <td>120.949997</td>\n",
       "      <td>118.320000</td>\n",
       "      <td>120.669998</td>\n",
       "      <td>120.669998</td>\n",
       "      <td>19492200</td>\n",
       "      <td>0.016682</td>\n",
       "      <td>NaN</td>\n",
       "    </tr>\n",
       "    <tr>\n",
       "      <th>3</th>\n",
       "      <td>1/6/2017</td>\n",
       "      <td>-0.24</td>\n",
       "      <td>-0.52</td>\n",
       "      <td>-0.49</td>\n",
       "      <td>-0.06</td>\n",
       "      <td>-0.16</td>\n",
       "      <td>0.0</td>\n",
       "      <td>0.137503</td>\n",
       "      <td>2276.98</td>\n",
       "      <td>1.89</td>\n",
       "      <td>...</td>\n",
       "      <td>0</td>\n",
       "      <td>0</td>\n",
       "      <td>120.980003</td>\n",
       "      <td>123.879997</td>\n",
       "      <td>120.029999</td>\n",
       "      <td>123.410004</td>\n",
       "      <td>123.410004</td>\n",
       "      <td>28545300</td>\n",
       "      <td>0.022707</td>\n",
       "      <td>NaN</td>\n",
       "    </tr>\n",
       "    <tr>\n",
       "      <th>4</th>\n",
       "      <td>1/9/2017</td>\n",
       "      <td>-0.11</td>\n",
       "      <td>0.04</td>\n",
       "      <td>-0.61</td>\n",
       "      <td>0.32</td>\n",
       "      <td>-0.34</td>\n",
       "      <td>0.0</td>\n",
       "      <td>0.079457</td>\n",
       "      <td>2268.90</td>\n",
       "      <td>1.88</td>\n",
       "      <td>...</td>\n",
       "      <td>0</td>\n",
       "      <td>0</td>\n",
       "      <td>123.550003</td>\n",
       "      <td>125.430000</td>\n",
       "      <td>123.040001</td>\n",
       "      <td>124.900002</td>\n",
       "      <td>124.900002</td>\n",
       "      <td>22880400</td>\n",
       "      <td>0.012074</td>\n",
       "      <td>NaN</td>\n",
       "    </tr>\n",
       "  </tbody>\n",
       "</table>\n",
       "<p>5 rows × 45 columns</p>\n",
       "</div>"
      ],
      "text/plain": [
       "       DATE  MKT-RF   SMB   HML   RMW   CMA   RF  ADS_INDEX    SP500  T10Y3M  \\\n",
       "0  1/3/2017    0.53 -0.24  0.33 -0.28  0.11  0.0   0.199210  2257.83    1.92   \n",
       "1  1/4/2017    1.03  0.51  0.29 -0.37 -0.10  0.0   0.178190  2270.75    1.93   \n",
       "2  1/5/2017    0.50  0.02 -0.36  0.02 -0.15  0.0   0.157624  2269.00    1.85   \n",
       "3  1/6/2017   -0.24 -0.52 -0.49 -0.06 -0.16  0.0   0.137503  2276.98    1.89   \n",
       "4  1/9/2017   -0.11  0.04 -0.61  0.32 -0.34  0.0   0.079457  2268.90    1.88   \n",
       "\n",
       "   ...  USRECDM  USRECDP   META_OPEN   META_HIGH    META_LOW  META_CLOSE  \\\n",
       "0  ...        0        0  116.029999  117.839996  115.510002  116.860001   \n",
       "1  ...        0        0  117.550003  119.660004  117.290001  118.690002   \n",
       "2  ...        0        0  118.860001  120.949997  118.320000  120.669998   \n",
       "3  ...        0        0  120.980003  123.879997  120.029999  123.410004   \n",
       "4  ...        0        0  123.550003  125.430000  123.040001  124.900002   \n",
       "\n",
       "   META_ADJ CLOSE  META_VOLUME  META_DAILY_RETURN  META_RSI  \n",
       "0      116.860001     20663900                NaN       NaN  \n",
       "1      118.690002     19630900           0.015660       NaN  \n",
       "2      120.669998     19492200           0.016682       NaN  \n",
       "3      123.410004     28545300           0.022707       NaN  \n",
       "4      124.900002     22880400           0.012074       NaN  \n",
       "\n",
       "[5 rows x 45 columns]"
      ]
     },
     "execution_count": 3,
     "metadata": {},
     "output_type": "execute_result"
    }
   ],
   "source": [
    "DATA_raw.head()"
   ]
  },
  {
   "cell_type": "code",
   "execution_count": 4,
   "metadata": {},
   "outputs": [],
   "source": [
    "###############################################################################\n",
    "# Define X and Y:\n",
    "DATA.columns\n",
    "columns_to_drop = ['DATE', 'META_OPEN', 'META_HIGH', 'META_LOW', 'META_CLOSE', 'META_ADJ CLOSE', 'META_DAILY_RETURN']\n",
    "\n",
    "# Drop the specified columns\n",
    "X = DATA.drop(columns=columns_to_drop)\n",
    "X = X.fillna(method='bfill')\n",
    "\n",
    "y = DATA['META_ADJ CLOSE']\n",
    "\n",
    "# Data Issues:\n",
    "missing_values = X.isnull().sum()\n",
    "X['DCPF1M'].fillna(method='ffill', inplace=True)"
   ]
  },
  {
   "cell_type": "code",
   "execution_count": 5,
   "metadata": {},
   "outputs": [
    {
     "data": {
      "text/plain": [
       "RandomForestRegressor()"
      ]
     },
     "execution_count": 5,
     "metadata": {},
     "output_type": "execute_result"
    }
   ],
   "source": [
    "# define the model\n",
    "model = RandomForestRegressor(bootstrap=True, criterion='squared_error', max_depth=None,\\\n",
    "           max_features='auto', max_leaf_nodes=None,\\\n",
    "           min_impurity_decrease=0.0,\\\n",
    "           min_samples_leaf=1, min_samples_split=2,\\\n",
    "           min_weight_fraction_leaf=0.0, n_estimators=100, n_jobs=None,\\\n",
    "           oob_score=False, random_state=None, verbose=0, warm_start=False)\n",
    "\n",
    "# fit the model\n",
    "model.fit(X, y)"
   ]
  },
  {
   "cell_type": "code",
   "execution_count": 6,
   "metadata": {},
   "outputs": [
    {
     "name": "stdout",
     "output_type": "stream",
     "text": [
      "                Feature Importance\n",
      "DCPN3M                3.824983e-01\n",
      "CBBTCUSD              2.386028e-01\n",
      "SP500                 5.813111e-02\n",
      "AMERIBOR              5.414353e-02\n",
      "OBMMIJUMBO30YF        4.538885e-02\n",
      "BAMLH0A0HYM2          3.968614e-02\n",
      "RIFSPPFAAD90NB        3.299138e-02\n",
      "DCPF1M                2.315171e-02\n",
      "DHHNGSP               1.990652e-02\n",
      "DAAA                  1.990215e-02\n",
      "DCOILBRENTEU          1.427357e-02\n",
      "NIKKEI225             1.052801e-02\n",
      "DEXUSUK               8.060463e-03\n",
      "META_RSI              6.781288e-03\n",
      "DEXUSEU               6.332836e-03\n",
      "CBETHUSD              6.177128e-03\n",
      "DGS1                  5.356665e-03\n",
      "DBAA                  5.268147e-03\n",
      "DCOILWTICO            4.779029e-03\n",
      "ADS_INDEX             3.925112e-03\n",
      "T10YIE_Y              2.455437e-03\n",
      "T10YIE_X              2.270023e-03\n",
      "BAMLH0A0HYM2EY        2.016459e-03\n",
      "T10Y3M                1.991313e-03\n",
      "DGS10                 1.511753e-03\n",
      "DEXJPUS               9.736341e-04\n",
      "VIXCLS                9.214693e-04\n",
      "T5YIE                 7.324139e-04\n",
      "META_VOLUME           5.292256e-04\n",
      "RMW                   1.654187e-04\n",
      "CMA                   1.601923e-04\n",
      "MKT-RF                1.400451e-04\n",
      "HML                   1.224145e-04\n",
      "SMB                   1.075359e-04\n",
      "RF                    9.627654e-06\n",
      "USRECDP               7.038262e-06\n",
      "USRECD                1.159763e-06\n",
      "USRECDM               1.391840e-07\n",
      "Feature Importance    38\n",
      "dtype: int64\n"
     ]
    },
    {
     "data": {
      "image/png": "[encoded data removed]",
      "text/plain": [
       "<Figure size 1600x600 with 1 Axes>"
      ]
     },
     "metadata": {},
     "output_type": "display_data"
    }
   ],
   "source": [
    "###############################################################################\n",
    "# Feature Importance:\n",
    "# 1. average feature importance\n",
    "df_feature_importance = pd.DataFrame(model.feature_importances_, index=X.columns, \\\n",
    "                                     columns=['Feature Importance']).sort_values('Feature Importance', ascending=False)\n",
    "print(df_feature_importance)\n",
    "print(df_feature_importance.count())\n",
    "\n",
    "\n",
    "# 2. all feature importance for each tree\n",
    "# (1) bar chart\n",
    "df_feature_importance.plot(kind='bar');"
   ]
  },
  {
   "cell_type": "code",
   "execution_count": 7,
   "metadata": {},
   "outputs": [
    {
     "name": "stdout",
     "output_type": "stream",
     "text": [
      "Selected Features: ['DCPN3M', 'CBBTCUSD', 'SP500', 'AMERIBOR', 'OBMMIJUMBO30YF', 'BAMLH0A0HYM2', 'RIFSPPFAAD90NB']\n"
     ]
    }
   ],
   "source": [
    "###############################################################################\n",
    "# Feature Selection:\n",
    "# Assuming feature_importance is your array of feature importance scores\n",
    "feature_threshold = 0.025  # Adjust the threshold based on your preference\n",
    "df_new_feature = df_feature_importance[df_feature_importance['Feature Importance'] > feature_threshold]\n",
    "\n",
    "# Get the selected features\n",
    "selected_features = df_new_feature.index\n",
    "print(f'Selected Features: {selected_features.to_list()}')\n",
    "X_selected = X[selected_features]"
   ]
  },
  {
   "cell_type": "code",
   "execution_count": 8,
   "metadata": {},
   "outputs": [
    {
     "name": "stdout",
     "output_type": "stream",
     "text": [
      "The best hyperparameters are  {'max_depth': None, 'min_samples_leaf': 2, 'min_samples_split': 2, 'n_estimators': 100}\n"
     ]
    },
    {
     "data": {
      "text/plain": [
       "RandomForestRegressor(min_samples_leaf=2)"
      ]
     },
     "execution_count": 8,
     "metadata": {},
     "output_type": "execute_result"
    }
   ],
   "source": [
    "#=========================================================================\n",
    "# exhaustively search for the optimal hyperparameters\n",
    "#=========================================================================\n",
    "from sklearn.model_selection import GridSearchCV\n",
    "# set up our search grid\n",
    "# Define the parameter grid to search\n",
    "param_grid = {\n",
    "    'n_estimators': [10, 50, 100],\n",
    "    'max_depth': [None, 10, 20],\n",
    "    'min_samples_split': [2, 5],\n",
    "    'min_samples_leaf': [1, 2]\n",
    "}\n",
    "\n",
    "# Initialize the Random Forest Regressor\n",
    "regressor = RandomForestRegressor(random_state=42)\n",
    "# Initialize GridSearchCV\n",
    "search = GridSearchCV(regressor, param_grid, cv=5).fit(X, y)\n",
    "\n",
    "print(\"The best hyperparameters are \",search.best_params_)\n",
    "regressor = RandomForestRegressor(n_estimators  = search.best_params_[\"n_estimators\"],\n",
    "                           max_depth     = search.best_params_[\"max_depth\"],\n",
    "                           min_samples_split = search.best_params_[\"min_samples_split\"],\n",
    "                           min_samples_leaf = search.best_params_[\"min_samples_leaf\"],)\n",
    "\n",
    "regressor.fit(X, y)\n"
   ]
  },
  {
   "cell_type": "code",
   "execution_count": 9,
   "metadata": {},
   "outputs": [],
   "source": [
    "#=========================================================================\n",
    "# To use early_stopping_rounds: \n",
    "# \"Validation metric needs to improve at least once in every \n",
    "# early_stopping_rounds round(s) to continue training.\"\n",
    "#=========================================================================\n",
    "# first perform a test/train split \n",
    "from sklearn.model_selection import train_test_split\n",
    "\n",
    "X_train,X_test,y_train,y_test = train_test_split(X_selected,y, test_size = 0.2)\n",
    "regressor.fit(X_train, y_train)\n",
    "\n",
    "#=========================================================================\n",
    "# use the model to predict the prices for the test data\n",
    "#=========================================================================\n",
    "y_hat = regressor.predict(X_test)"
   ]
  },
  {
   "cell_type": "code",
   "execution_count": 10,
   "metadata": {},
   "outputs": [
    {
     "name": "stdout",
     "output_type": "stream",
     "text": [
      "Mean Cross-Validation Score: -2839.8614691887497\n",
      "Feature Importances: [1.40045097e-04 1.07535900e-04 1.22414481e-04 1.65418689e-04\n",
      " 1.60192319e-04 9.62765409e-06 3.92511237e-03 5.81311080e-02\n",
      " 1.99131294e-03 4.53888490e-02 6.33283587e-03 9.73634092e-04\n",
      " 8.06046250e-03 2.38602825e-01 6.17712813e-03 2.27002255e-03\n",
      " 1.42735653e-02 9.21469283e-04 1.99021457e-02 5.26814671e-03\n",
      " 1.05280090e-02 5.41435265e-02 2.45543739e-03 7.32413880e-04\n",
      " 3.96861392e-02 2.01645879e-03 1.51175337e-03 5.35666451e-03\n",
      " 3.29913803e-02 3.82498257e-01 2.31517074e-02 4.77902878e-03\n",
      " 1.99065213e-02 1.15976319e-06 1.39184043e-07 7.03826198e-06\n",
      " 5.29225614e-04 6.78128833e-03]\n",
      "--------------------------------------- \n",
      "\n",
      "MEAN of Mean Squared Error: 2839.8614691887497\n",
      "--------------------------------------- \n",
      "\n",
      "STD of RMSE Squared Error: 22.9404275834772\n",
      "--------------------------------------- \n",
      "\n",
      "Root Mean Squared Error on Test Set: 48.09987787381573\n",
      "--------------------------------------- \n",
      "\n"
     ]
    }
   ],
   "source": [
    "###############################################################################\n",
    "# Cross Validation:\n",
    "# Perform cross-validation\n",
    "cv_scores = cross_val_score(regressor, X, y, cv=5, scoring='neg_mean_squared_error')\n",
    "\n",
    "# Let's get the mean score\n",
    "mean_cv_score = np.mean(cv_scores)\n",
    "\n",
    "# Get feature importances\n",
    "feature_importances = model.feature_importances_\n",
    "\n",
    "# Print the results\n",
    "print(\"Mean Cross-Validation Score:\", mean_cv_score)\n",
    "print(\"Feature Importances:\", feature_importances)\n",
    "\n",
    "# Evaluate Model:\n",
    "# Calculate the mean squared error and convert it back to positive\n",
    "mse_scores = -cv_scores\n",
    "mean_mse = np.mean(mse_scores)\n",
    "std_mse = np.std(mse_scores)\n",
    "\n",
    "rmse = np.mean(np.sqrt(np.abs(cv_scores)))\n",
    "std_rmse = np.std(np.sqrt(np.abs(cv_scores)))\n",
    "print('---------------------------------------','\\n')\n",
    "print(f'MEAN of Mean Squared Error: {mean_mse}')\n",
    "print('---------------------------------------','\\n')\n",
    "print(f'STD of RMSE Squared Error: {std_rmse}')\n",
    "print('---------------------------------------','\\n')\n",
    "print(f'Root Mean Squared Error on Test Set: {rmse}')\n",
    "print('---------------------------------------','\\n')"
   ]
  },
  {
   "cell_type": "code",
   "execution_count": 11,
   "metadata": {},
   "outputs": [
    {
     "data": {
      "text/plain": [
       "268     190.000000\n",
       "605     177.470001\n",
       "598     184.820007\n",
       "1551    185.250000\n",
       "1191    353.579987\n",
       "           ...    \n",
       "280     173.149994\n",
       "951     276.140015\n",
       "1196    326.230011\n",
       "312     155.389999\n",
       "403     183.089996\n",
       "Name: META_ADJ CLOSE, Length: 344, dtype: float64"
      ]
     },
     "execution_count": 11,
     "metadata": {},
     "output_type": "execute_result"
    }
   ],
   "source": [
    "y_test"
   ]
  },
  {
   "cell_type": "code",
   "execution_count": 12,
   "metadata": {},
   "outputs": [
    {
     "name": "stdout",
     "output_type": "stream",
     "text": [
      "6.5864433837848555\n"
     ]
    }
   ],
   "source": [
    "## There is no overfitting given the STD of RMSE is smaller than RMSE\n",
    "\n",
    "# Calculate Mean Squared Error (MSE)\n",
    "mse = mean_squared_error(y_test, y_hat)\n",
    "\n",
    "# Calculate Root Mean Squared Error (RMSE)\n",
    "rmse = np.sqrt(mse)\n",
    "print(rmse)"
   ]
  },
  {
   "cell_type": "markdown",
   "metadata": {},
   "source": [
    "## Trading Rules"
   ]
  },
  {
   "cell_type": "code",
   "execution_count": 19,
   "metadata": {},
   "outputs": [],
   "source": [
    "### Creating input data for month of October 2023\n",
    "new_X = X_selected[-66:]\n",
    "new_y_test = y[-66:]"
   ]
  },
  {
   "cell_type": "code",
   "execution_count": 20,
   "metadata": {},
   "outputs": [],
   "source": [
    "### Predicting using XGBoost\n",
    "y_pred = regressor.predict(new_X)"
   ]
  },
  {
   "cell_type": "code",
   "execution_count": 21,
   "metadata": {},
   "outputs": [],
   "source": [
    "import numpy as np\n",
    "\n",
    "def TRADING_RULE(P_hat, P, options):\n",
    "    if options == 'BUY HOLD':\n",
    "        return TRADING_RULE_1(P)\n",
    "    elif options == 'LONG SHORT':\n",
    "        return TRADING_RULE_2(P_hat, P)\n",
    "    elif options == 'DAY TRADE':\n",
    "        return TRADING_RULE_3(P_hat, P)\n",
    "\n",
    "def TRADING_RULE_1(P):\n",
    "    T = P.shape[0]\n",
    "    signal = np.zeros(T)\n",
    "    signal[0] = 1\n",
    "    signal[-1] = -1\n",
    "    return signal\n",
    "\n",
    "def TRADING_RULE_2(P_hat, P):\n",
    "    T = P.shape[0]\n",
    "    signal = np.zeros(T)\n",
    "    for t in range(1, T):\n",
    "        if (P_hat[t-1] > P[t-1]) + (P_hat[t] < P[t]) == 2:  # FORCAST > OPEN: LONG\n",
    "            signal[t] = 1\n",
    "        elif (P_hat[t-1] < P[t-1]) + (P_hat[t] > P[t]) == 2:  # FORECAST < OPEN: SHORT\n",
    "            signal[t] = -1\n",
    "    return signal\n",
    "\n",
    "def TRADING_RULE_3(P_hat, P):\n",
    "    T = P.shape[0]\n",
    "    signal = np.zeros(T)\n",
    "    for t in range(1, T):\n",
    "        if P_hat[t] > P[t]:  # FORCAST > OPEN: LONG\n",
    "            signal[t] = 1\n",
    "        elif P_hat[t] < P[t]:  # FORECAST < OPEN: SHORT\n",
    "            signal[t] = -1\n",
    "    return signal"
   ]
  },
  {
   "cell_type": "code",
   "execution_count": 25,
   "metadata": {},
   "outputs": [
    {
     "name": "stdout",
     "output_type": "stream",
     "text": [
      "Trading Signal: [ 0. -1.  1.  1.  1. -1. -1.  1.  1. -1.  1. -1. -1.  1.  1. -1. -1. -1.\n",
      "  1.  1.  1.  1.  1. -1.  1.  1.  1.  1.  1. -1. -1. -1. -1.  1.  1.  1.\n",
      " -1.  1. -1. -1. -1.  1.  1.  1. -1.  1.  1.  1. -1. -1. -1. -1. -1. -1.\n",
      " -1. -1. -1. -1. -1. -1. -1.  1.  1.  1. -1.  1.]\n",
      "Asset Prices: [318.6000061 322.7099915 314.3099976 313.1900024 310.730011  316.5599976\n",
      " 312.6400146 305.2099915 305.7399902 301.6400146 306.1900024 301.9500122\n",
      " 294.2900085 285.0899963 283.25      289.8999939 287.6000061 294.2399902\n",
      " 286.75      285.5       290.2600098 297.9899902 295.1000061 295.8900146\n",
      " 296.3800049 300.1499939 299.1700134 298.6700134 297.8900146 307.5599976\n",
      " 301.6600037 305.0599976 311.7200012 300.3099976 302.5499878 305.0700073\n",
      " 299.6700134 295.730011  299.0799866 300.8299866 298.9599915 297.7399902\n",
      " 303.9599915 300.2099915 306.8200073 300.9400024 305.5799866 304.7900085\n",
      " 315.4299927 318.3599854 321.8399963 327.8200073 324.1600037 314.6900024\n",
      " 321.1499939 324.        316.9700012 312.8099976 308.6499939 314.0100098\n",
      " 312.5499878 299.5299988 288.3500061 296.730011  302.6600037 301.269989 ]\n",
      "Profit and Loss: [10000.         9677.2900085 10305.9100037 10305.9100037 10305.9100037\n",
      "  9672.7900085  9672.7900085 10283.2099915 10283.2099915  9679.9299623\n",
      " 10292.3099671  9688.4099427  9688.4099427 10258.5899353 10258.5899353\n",
      "  9678.7899475  9678.7899475  9678.7899475 10252.2899475 10252.2899475\n",
      " 10252.2899475 10252.2899475 10252.2899475  9660.5099183 10253.2699281\n",
      " 10253.2699281 10253.2699281 10253.2699281 10253.2699281  9638.1499329\n",
      "  9638.1499329  9638.1499329  9638.1499329 10238.7699281 10238.7699281\n",
      " 10238.7699281  9639.4299013 10230.8899233  9632.7299501  9632.7299501\n",
      "  9632.7299501 10228.2099305 10228.2099305 10228.2099305  9614.5699159\n",
      " 10216.4499207 10216.4499207 10216.4499207  9585.5899353  9585.5899353\n",
      "  9585.5899353  9585.5899353  9585.5899353  9585.5899353  9585.5899353\n",
      "  9585.5899353  9585.5899353  9585.5899353  9585.5899353  9585.5899353\n",
      "  9585.5899353 10184.6499329 10184.6499329 10184.6499329  9579.3299255\n",
      " 10181.8699035]\n"
     ]
    }
   ],
   "source": [
    "import numpy as np\n",
    "\n",
    "def calculate_profit_loss(signal, price):\n",
    "    T = len(signal)\n",
    "    position = np.zeros(T)\n",
    "    balance = np.zeros(T)\n",
    "    position[1:] = np.diff(signal)  # Buy (1) or Sell (-1) at each signal change\n",
    "    balance[0] = 10000  # Initial balance\n",
    "    for t in range(1, T):\n",
    "        balance[t] = balance[t - 1] + position[t] * price[t]\n",
    "    return balance\n",
    "\n",
    "# Example usage:\n",
    "# Assume 'price' is a numpy array or list containing the asset prices over time\n",
    "# and 'signal' is the trading signal generated by TRADING_RULE function.\n",
    "\n",
    "# Example price data\n",
    "price = new_y_test.values\n",
    "\n",
    "# Example trading signal\n",
    "signal = TRADING_RULE(y_pred, new_y_test.values, 'DAY TRADE')\n",
    "\n",
    "# Calculate profit and loss\n",
    "profit_loss = calculate_profit_loss(signal, price)\n",
    "\n",
    "# Display the results\n",
    "print(\"Trading Signal:\", signal)\n",
    "print(\"Asset Prices:\", price)\n",
    "print(\"Profit and Loss:\", profit_loss)"
   ]
  },
  {
   "cell_type": "code",
   "execution_count": 26,
   "metadata": {},
   "outputs": [
    {
     "data": {
      "image/png": "[encoded data removed]",
      "text/plain": [
       "<Figure size 1000x400 with 1 Axes>"
      ]
     },
     "metadata": {},
     "output_type": "display_data"
    }
   ],
   "source": [
    "import matplotlib.pyplot as plt\n",
    "import numpy as np\n",
    "\n",
    "\n",
    "trading_signals = signal\n",
    "\n",
    "time_points = np.arange(len(trading_signals))\n",
    "\n",
    "# Plot the trading signals\n",
    "plt.figure(figsize=(10, 4))\n",
    "plt.stem(time_points, trading_signals, basefmt=\" \", markerfmt=\"o\", linefmt=\"-\")\n",
    "plt.title('Trading Signals')\n",
    "plt.xlabel('Time Points')\n",
    "plt.ylabel('Signal')\n",
    "plt.show()"
   ]
  },
  {
   "cell_type": "code",
   "execution_count": 27,
   "metadata": {},
   "outputs": [
    {
     "name": "stdout",
     "output_type": "stream",
     "text": [
      "182.0 USD\n"
     ]
    }
   ],
   "source": [
    "Total_Profit = profit_loss[-1] - profit_loss[0]\n",
    "print(str(np.round(Total_Profit)) + ' USD')"
   ]
  },
  {
   "cell_type": "code",
   "execution_count": 33,
   "metadata": {},
   "outputs": [
    {
     "data": {
      "application/vnd.plotly.v1+json": {
       "config": {
        "plotlyServerURL": "https://plot.ly"
       },
       "data": [
        {
         "mode": "lines",
         "name": "META",
         "type": "scatter",
         "x": [
          "2023-08-08T00:00:00-04:00",
          "2023-08-09T00:00:00-04:00",
          "2023-08-10T00:00:00-04:00",
          "2023-08-11T00:00:00-04:00",
          "2023-08-14T00:00:00-04:00",
          "2023-08-15T00:00:00-04:00",
          "2023-08-16T00:00:00-04:00",
          "2023-08-17T00:00:00-04:00",
          "2023-08-18T00:00:00-04:00",
          "2023-08-21T00:00:00-04:00",
          "2023-08-22T00:00:00-04:00",
          "2023-08-23T00:00:00-04:00",
          "2023-08-24T00:00:00-04:00",
          "2023-08-25T00:00:00-04:00",
          "2023-08-28T00:00:00-04:00",
          "2023-08-29T00:00:00-04:00",
          "2023-08-30T00:00:00-04:00",
          "2023-08-31T00:00:00-04:00",
          "2023-09-01T00:00:00-04:00",
          "2023-09-05T00:00:00-04:00",
          "2023-09-06T00:00:00-04:00",
          "2023-09-07T00:00:00-04:00",
          "2023-09-08T00:00:00-04:00",
          "2023-09-11T00:00:00-04:00",
          "2023-09-12T00:00:00-04:00",
          "2023-09-13T00:00:00-04:00",
          "2023-09-14T00:00:00-04:00",
          "2023-09-15T00:00:00-04:00",
          "2023-09-18T00:00:00-04:00",
          "2023-09-19T00:00:00-04:00",
          "2023-09-20T00:00:00-04:00",
          "2023-09-21T00:00:00-04:00",
          "2023-09-22T00:00:00-04:00",
          "2023-09-25T00:00:00-04:00",
          "2023-09-26T00:00:00-04:00",
          "2023-09-27T00:00:00-04:00",
          "2023-09-28T00:00:00-04:00",
          "2023-09-29T00:00:00-04:00",
          "2023-10-02T00:00:00-04:00",
          "2023-10-03T00:00:00-04:00",
          "2023-10-04T00:00:00-04:00",
          "2023-10-05T00:00:00-04:00",
          "2023-10-06T00:00:00-04:00",
          "2023-10-09T00:00:00-04:00",
          "2023-10-10T00:00:00-04:00",
          "2023-10-11T00:00:00-04:00",
          "2023-10-12T00:00:00-04:00",
          "2023-10-13T00:00:00-04:00",
          "2023-10-16T00:00:00-04:00",
          "2023-10-17T00:00:00-04:00",
          "2023-10-18T00:00:00-04:00",
          "2023-10-19T00:00:00-04:00",
          "2023-10-20T00:00:00-04:00",
          "2023-10-23T00:00:00-04:00",
          "2023-10-24T00:00:00-04:00",
          "2023-10-25T00:00:00-04:00",
          "2023-10-26T00:00:00-04:00",
          "2023-10-27T00:00:00-04:00",
          "2023-10-30T00:00:00-04:00",
          "2023-10-31T00:00:00-04:00",
          "2023-11-01T00:00:00-04:00",
          "2023-11-02T00:00:00-04:00",
          "2023-11-03T00:00:00-04:00",
          "2023-11-06T00:00:00-05:00",
          "2023-11-07T00:00:00-05:00",
          "2023-11-08T00:00:00-05:00",
          "2023-11-09T00:00:00-05:00",
          "2023-11-10T00:00:00-05:00",
          "2023-11-13T00:00:00-05:00",
          "2023-11-14T00:00:00-05:00",
          "2023-11-15T00:00:00-05:00",
          "2023-11-16T00:00:00-05:00",
          "2023-11-17T00:00:00-05:00",
          "2023-11-20T00:00:00-05:00",
          "2023-11-21T00:00:00-05:00",
          "2023-11-22T00:00:00-05:00",
          "2023-11-24T00:00:00-05:00",
          "2023-11-27T00:00:00-05:00",
          "2023-11-28T00:00:00-05:00",
          "2023-11-29T00:00:00-05:00",
          "2023-11-30T00:00:00-05:00",
          "2023-12-01T00:00:00-05:00",
          "2023-12-04T00:00:00-05:00",
          "2023-12-05T00:00:00-05:00",
          "2023-12-06T00:00:00-05:00",
          "2023-12-07T00:00:00-05:00",
          "2023-12-08T00:00:00-05:00",
          "2023-12-11T00:00:00-05:00",
          "2023-12-12T00:00:00-05:00",
          "2023-12-13T00:00:00-05:00"
         ],
         "y": [
          312.6400146484375,
          305.2099914550781,
          305.739990234375,
          301.6400146484375,
          306.19000244140625,
          301.95001220703125,
          294.2900085449219,
          285.0899963378906,
          283.25,
          289.8999938964844,
          287.6000061035156,
          294.239990234375,
          286.75,
          285.5,
          290.260009765625,
          297.989990234375,
          295.1000061035156,
          295.8900146484375,
          296.3800048828125,
          300.1499938964844,
          299.1700134277344,
          298.6700134277344,
          297.8900146484375,
          307.55999755859375,
          301.6600036621094,
          305.05999755859375,
          311.7200012207031,
          300.30999755859375,
          302.54998779296875,
          305.07000732421875,
          299.6700134277344,
          295.7300109863281,
          299.0799865722656,
          300.8299865722656,
          298.9599914550781,
          297.739990234375,
          303.9599914550781,
          300.2099914550781,
          306.82000732421875,
          300.94000244140625,
          305.5799865722656,
          304.7900085449219,
          315.42999267578125,
          318.3599853515625,
          321.8399963378906,
          327.82000732421875,
          324.1600036621094,
          314.69000244140625,
          321.1499938964844,
          324,
          316.9700012207031,
          312.80999755859375,
          308.6499938964844,
          314.010009765625,
          312.54998779296875,
          299.5299987792969,
          288.3500061035156,
          296.7300109863281,
          302.6600036621094,
          301.2699890136719,
          311.8500061035156,
          310.8699951171875,
          314.6000061035156,
          315.79998779296875,
          318.82000732421875,
          319.7799987792969,
          320.54998779296875,
          328.7699890136719,
          329.19000244140625,
          336.30999755859375,
          332.7099914550781,
          334.19000244140625,
          335.0400085449219,
          339.9700012207031,
          336.9800109863281,
          341.489990234375,
          338.2300109863281,
          334.70001220703125,
          338.989990234375,
          332.20001220703125,
          327.1499938964844,
          324.82000732421875,
          320.0199890136719,
          318.2900085449219,
          317.45001220703125,
          326.5899963378906,
          332.75,
          325.2799987792969,
          334.2200012207031,
          334.739990234375
         ]
        }
       ],
       "layout": {
        "template": {
         "data": {
          "bar": [
           {
            "error_x": {
             "color": "#f2f5fa"
            },
            "error_y": {
             "color": "#f2f5fa"
            },
            "marker": {
             "line": {
              "color": "rgb(17,17,17)",
              "width": 0.5
             },
             "pattern": {
              "fillmode": "overlay",
              "size": 10,
              "solidity": 0.2
             }
            },
            "type": "bar"
           }
          ],
          "barpolar": [
           {
            "marker": {
             "line": {
              "color": "rgb(17,17,17)",
              "width": 0.5
             },
             "pattern": {
              "fillmode": "overlay",
              "size": 10,
              "solidity": 0.2
             }
            },
            "type": "barpolar"
           }
          ],
          "carpet": [
           {
            "aaxis": {
             "endlinecolor": "#A2B1C6",
             "gridcolor": "#506784",
             "linecolor": "#506784",
             "minorgridcolor": "#506784",
             "startlinecolor": "#A2B1C6"
            },
            "baxis": {
             "endlinecolor": "#A2B1C6",
             "gridcolor": "#506784",
             "linecolor": "#506784",
             "minorgridcolor": "#506784",
             "startlinecolor": "#A2B1C6"
            },
            "type": "carpet"
           }
          ],
          "choropleth": [
           {
            "colorbar": {
             "outlinewidth": 0,
             "ticks": ""
            },
            "type": "choropleth"
           }
          ],
          "contour": [
           {
            "colorbar": {
             "outlinewidth": 0,
             "ticks": ""
            },
            "colorscale": [
             [
              0,
              "#0d0887"
             ],
             [
              0.1111111111111111,
              "#46039f"
             ],
             [
              0.2222222222222222,
              "#7201a8"
             ],
             [
              0.3333333333333333,
              "#9c179e"
             ],
             [
              0.4444444444444444,
              "#bd3786"
             ],
             [
              0.5555555555555556,
              "#d8576b"
             ],
             [
              0.6666666666666666,
              "#ed7953"
             ],
             [
              0.7777777777777778,
              "#fb9f3a"
             ],
             [
              0.8888888888888888,
              "#fdca26"
             ],
             [
              1,
              "#f0f921"
             ]
            ],
            "type": "contour"
           }
          ],
          "contourcarpet": [
           {
            "colorbar": {
             "outlinewidth": 0,
             "ticks": ""
            },
            "type": "contourcarpet"
           }
          ],
          "heatmap": [
           {
            "colorbar": {
             "outlinewidth": 0,
             "ticks": ""
            },
            "colorscale": [
             [
              0,
              "#0d0887"
             ],
             [
              0.1111111111111111,
              "#46039f"
             ],
             [
              0.2222222222222222,
              "#7201a8"
             ],
             [
              0.3333333333333333,
              "#9c179e"
             ],
             [
              0.4444444444444444,
              "#bd3786"
             ],
             [
              0.5555555555555556,
              "#d8576b"
             ],
             [
              0.6666666666666666,
              "#ed7953"
             ],
             [
              0.7777777777777778,
              "#fb9f3a"
             ],
             [
              0.8888888888888888,
              "#fdca26"
             ],
             [
              1,
              "#f0f921"
             ]
            ],
            "type": "heatmap"
           }
          ],
          "heatmapgl": [
           {
            "colorbar": {
             "outlinewidth": 0,
             "ticks": ""
            },
            "colorscale": [
             [
              0,
              "#0d0887"
             ],
             [
              0.1111111111111111,
              "#46039f"
             ],
             [
              0.2222222222222222,
              "#7201a8"
             ],
             [
              0.3333333333333333,
              "#9c179e"
             ],
             [
              0.4444444444444444,
              "#bd3786"
             ],
             [
              0.5555555555555556,
              "#d8576b"
             ],
             [
              0.6666666666666666,
              "#ed7953"
             ],
             [
              0.7777777777777778,
              "#fb9f3a"
             ],
             [
              0.8888888888888888,
              "#fdca26"
             ],
             [
              1,
              "#f0f921"
             ]
            ],
            "type": "heatmapgl"
           }
          ],
          "histogram": [
           {
            "marker": {
             "pattern": {
              "fillmode": "overlay",
              "size": 10,
              "solidity": 0.2
             }
            },
            "type": "histogram"
           }
          ],
          "histogram2d": [
           {
            "colorbar": {
             "outlinewidth": 0,
             "ticks": ""
            },
            "colorscale": [
             [
              0,
              "#0d0887"
             ],
             [
              0.1111111111111111,
              "#46039f"
             ],
             [
              0.2222222222222222,
              "#7201a8"
             ],
             [
              0.3333333333333333,
              "#9c179e"
             ],
             [
              0.4444444444444444,
              "#bd3786"
             ],
             [
              0.5555555555555556,
              "#d8576b"
             ],
             [
              0.6666666666666666,
              "#ed7953"
             ],
             [
              0.7777777777777778,
              "#fb9f3a"
             ],
             [
              0.8888888888888888,
              "#fdca26"
             ],
             [
              1,
              "#f0f921"
             ]
            ],
            "type": "histogram2d"
           }
          ],
          "histogram2dcontour": [
           {
            "colorbar": {
             "outlinewidth": 0,
             "ticks": ""
            },
            "colorscale": [
             [
              0,
              "#0d0887"
             ],
             [
              0.1111111111111111,
              "#46039f"
             ],
             [
              0.2222222222222222,
              "#7201a8"
             ],
             [
              0.3333333333333333,
              "#9c179e"
             ],
             [
              0.4444444444444444,
              "#bd3786"
             ],
             [
              0.5555555555555556,
              "#d8576b"
             ],
             [
              0.6666666666666666,
              "#ed7953"
             ],
             [
              0.7777777777777778,
              "#fb9f3a"
             ],
             [
              0.8888888888888888,
              "#fdca26"
             ],
             [
              1,
              "#f0f921"
             ]
            ],
            "type": "histogram2dcontour"
           }
          ],
          "mesh3d": [
           {
            "colorbar": {
             "outlinewidth": 0,
             "ticks": ""
            },
            "type": "mesh3d"
           }
          ],
          "parcoords": [
           {
            "line": {
             "colorbar": {
              "outlinewidth": 0,
              "ticks": ""
             }
            },
            "type": "parcoords"
           }
          ],
          "pie": [
           {
            "automargin": true,
            "type": "pie"
           }
          ],
          "scatter": [
           {
            "marker": {
             "line": {
              "color": "#283442"
             }
            },
            "type": "scatter"
           }
          ],
          "scatter3d": [
           {
            "line": {
             "colorbar": {
              "outlinewidth": 0,
              "ticks": ""
             }
            },
            "marker": {
             "colorbar": {
              "outlinewidth": 0,
              "ticks": ""
             }
            },
            "type": "scatter3d"
           }
          ],
          "scattercarpet": [
           {
            "marker": {
             "colorbar": {
              "outlinewidth": 0,
              "ticks": ""
             }
            },
            "type": "scattercarpet"
           }
          ],
          "scattergeo": [
           {
            "marker": {
             "colorbar": {
              "outlinewidth": 0,
              "ticks": ""
             }
            },
            "type": "scattergeo"
           }
          ],
          "scattergl": [
           {
            "marker": {
             "line": {
              "color": "#283442"
             }
            },
            "type": "scattergl"
           }
          ],
          "scattermapbox": [
           {
            "marker": {
             "colorbar": {
              "outlinewidth": 0,
              "ticks": ""
             }
            },
            "type": "scattermapbox"
           }
          ],
          "scatterpolar": [
           {
            "marker": {
             "colorbar": {
              "outlinewidth": 0,
              "ticks": ""
             }
            },
            "type": "scatterpolar"
           }
          ],
          "scatterpolargl": [
           {
            "marker": {
             "colorbar": {
              "outlinewidth": 0,
              "ticks": ""
             }
            },
            "type": "scatterpolargl"
           }
          ],
          "scatterternary": [
           {
            "marker": {
             "colorbar": {
              "outlinewidth": 0,
              "ticks": ""
             }
            },
            "type": "scatterternary"
           }
          ],
          "surface": [
           {
            "colorbar": {
             "outlinewidth": 0,
             "ticks": ""
            },
            "colorscale": [
             [
              0,
              "#0d0887"
             ],
             [
              0.1111111111111111,
              "#46039f"
             ],
             [
              0.2222222222222222,
              "#7201a8"
             ],
             [
              0.3333333333333333,
              "#9c179e"
             ],
             [
              0.4444444444444444,
              "#bd3786"
             ],
             [
              0.5555555555555556,
              "#d8576b"
             ],
             [
              0.6666666666666666,
              "#ed7953"
             ],
             [
              0.7777777777777778,
              "#fb9f3a"
             ],
             [
              0.8888888888888888,
              "#fdca26"
             ],
             [
              1,
              "#f0f921"
             ]
            ],
            "type": "surface"
           }
          ],
          "table": [
           {
            "cells": {
             "fill": {
              "color": "#506784"
             },
             "line": {
              "color": "rgb(17,17,17)"
             }
            },
            "header": {
             "fill": {
              "color": "#2a3f5f"
             },
             "line": {
              "color": "rgb(17,17,17)"
             }
            },
            "type": "table"
           }
          ]
         },
         "layout": {
          "annotationdefaults": {
           "arrowcolor": "#f2f5fa",
           "arrowhead": 0,
           "arrowwidth": 1
          },
          "autotypenumbers": "strict",
          "coloraxis": {
           "colorbar": {
            "outlinewidth": 0,
            "ticks": ""
           }
          },
          "colorscale": {
           "diverging": [
            [
             0,
             "#8e0152"
            ],
            [
             0.1,
             "#c51b7d"
            ],
            [
             0.2,
             "#de77ae"
            ],
            [
             0.3,
             "#f1b6da"
            ],
            [
             0.4,
             "#fde0ef"
            ],
            [
             0.5,
             "#f7f7f7"
            ],
            [
             0.6,
             "#e6f5d0"
            ],
            [
             0.7,
             "#b8e186"
            ],
            [
             0.8,
             "#7fbc41"
            ],
            [
             0.9,
             "#4d9221"
            ],
            [
             1,
             "#276419"
            ]
           ],
           "sequential": [
            [
             0,
             "#0d0887"
            ],
            [
             0.1111111111111111,
             "#46039f"
            ],
            [
             0.2222222222222222,
             "#7201a8"
            ],
            [
             0.3333333333333333,
             "#9c179e"
            ],
            [
             0.4444444444444444,
             "#bd3786"
            ],
            [
             0.5555555555555556,
             "#d8576b"
            ],
            [
             0.6666666666666666,
             "#ed7953"
            ],
            [
             0.7777777777777778,
             "#fb9f3a"
            ],
            [
             0.8888888888888888,
             "#fdca26"
            ],
            [
             1,
             "#f0f921"
            ]
           ],
           "sequentialminus": [
            [
             0,
             "#0d0887"
            ],
            [
             0.1111111111111111,
             "#46039f"
            ],
            [
             0.2222222222222222,
             "#7201a8"
            ],
            [
             0.3333333333333333,
             "#9c179e"
            ],
            [
             0.4444444444444444,
             "#bd3786"
            ],
            [
             0.5555555555555556,
             "#d8576b"
            ],
            [
             0.6666666666666666,
             "#ed7953"
            ],
            [
             0.7777777777777778,
             "#fb9f3a"
            ],
            [
             0.8888888888888888,
             "#fdca26"
            ],
            [
             1,
             "#f0f921"
            ]
           ]
          },
          "colorway": [
           "#636efa",
           "#EF553B",
           "#00cc96",
           "#ab63fa",
           "#FFA15A",
           "#19d3f3",
           "#FF6692",
           "#B6E880",
           "#FF97FF",
           "#FECB52"
          ],
          "font": {
           "color": "#f2f5fa"
          },
          "geo": {
           "bgcolor": "rgb(17,17,17)",
           "lakecolor": "rgb(17,17,17)",
           "landcolor": "rgb(17,17,17)",
           "showlakes": true,
           "showland": true,
           "subunitcolor": "#506784"
          },
          "hoverlabel": {
           "align": "left"
          },
          "hovermode": "closest",
          "mapbox": {
           "style": "dark"
          },
          "paper_bgcolor": "rgb(17,17,17)",
          "plot_bgcolor": "rgb(17,17,17)",
          "polar": {
           "angularaxis": {
            "gridcolor": "#506784",
            "linecolor": "#506784",
            "ticks": ""
           },
           "bgcolor": "rgb(17,17,17)",
           "radialaxis": {
            "gridcolor": "#506784",
            "linecolor": "#506784",
            "ticks": ""
           }
          },
          "scene": {
           "xaxis": {
            "backgroundcolor": "rgb(17,17,17)",
            "gridcolor": "#506784",
            "gridwidth": 2,
            "linecolor": "#506784",
            "showbackground": true,
            "ticks": "",
            "zerolinecolor": "#C8D4E3"
           },
           "yaxis": {
            "backgroundcolor": "rgb(17,17,17)",
            "gridcolor": "#506784",
            "gridwidth": 2,
            "linecolor": "#506784",
            "showbackground": true,
            "ticks": "",
            "zerolinecolor": "#C8D4E3"
           },
           "zaxis": {
            "backgroundcolor": "rgb(17,17,17)",
            "gridcolor": "#506784",
            "gridwidth": 2,
            "linecolor": "#506784",
            "showbackground": true,
            "ticks": "",
            "zerolinecolor": "#C8D4E3"
           }
          },
          "shapedefaults": {
           "line": {
            "color": "#f2f5fa"
           }
          },
          "sliderdefaults": {
           "bgcolor": "#C8D4E3",
           "bordercolor": "rgb(17,17,17)",
           "borderwidth": 1,
           "tickwidth": 0
          },
          "ternary": {
           "aaxis": {
            "gridcolor": "#506784",
            "linecolor": "#506784",
            "ticks": ""
           },
           "baxis": {
            "gridcolor": "#506784",
            "linecolor": "#506784",
            "ticks": ""
           },
           "bgcolor": "rgb(17,17,17)",
           "caxis": {
            "gridcolor": "#506784",
            "linecolor": "#506784",
            "ticks": ""
           }
          },
          "title": {
           "x": 0.05
          },
          "updatemenudefaults": {
           "bgcolor": "#506784",
           "borderwidth": 0
          },
          "xaxis": {
           "automargin": true,
           "gridcolor": "#283442",
           "linecolor": "#506784",
           "ticks": "",
           "title": {
            "standoff": 15
           },
           "zerolinecolor": "#283442",
           "zerolinewidth": 2
          },
          "yaxis": {
           "automargin": true,
           "gridcolor": "#283442",
           "linecolor": "#506784",
           "ticks": "",
           "title": {
            "standoff": 15
           },
           "zerolinecolor": "#283442",
           "zerolinewidth": 2
          }
         }
        },
        "title": {
         "text": "Simulated META Stock Price for the Past 90 Days"
        },
        "xaxis": {
         "title": {
          "text": "Date"
         }
        },
        "yaxis": {
         "title": {
          "text": "Price (USD)"
         }
        }
       }
      }
     },
     "metadata": {},
     "output_type": "display_data"
    },
    {
     "data": {
      "text/html": [
       "<div>\n",
       "<style scoped>\n",
       "    .dataframe tbody tr th:only-of-type {\n",
       "        vertical-align: middle;\n",
       "    }\n",
       "\n",
       "    .dataframe tbody tr th {\n",
       "        vertical-align: top;\n",
       "    }\n",
       "\n",
       "    .dataframe thead th {\n",
       "        text-align: right;\n",
       "    }\n",
       "</style>\n",
       "<table border=\"1\" class=\"dataframe\">\n",
       "  <thead>\n",
       "    <tr style=\"text-align: right;\">\n",
       "      <th></th>\n",
       "      <th>Date</th>\n",
       "      <th>Open</th>\n",
       "      <th>High</th>\n",
       "      <th>Low</th>\n",
       "      <th>Close</th>\n",
       "      <th>Volume</th>\n",
       "      <th>Dividends</th>\n",
       "      <th>Stock Splits</th>\n",
       "    </tr>\n",
       "  </thead>\n",
       "  <tbody>\n",
       "    <tr>\n",
       "      <th>0</th>\n",
       "      <td>2023-08-08 00:00:00-04:00</td>\n",
       "      <td>314.399994</td>\n",
       "      <td>317.890015</td>\n",
       "      <td>310.109985</td>\n",
       "      <td>312.640015</td>\n",
       "      <td>15183500</td>\n",
       "      <td>0.0</td>\n",
       "      <td>0.0</td>\n",
       "    </tr>\n",
       "    <tr>\n",
       "      <th>1</th>\n",
       "      <td>2023-08-09 00:00:00-04:00</td>\n",
       "      <td>312.880005</td>\n",
       "      <td>313.630005</td>\n",
       "      <td>302.850006</td>\n",
       "      <td>305.209991</td>\n",
       "      <td>19955800</td>\n",
       "      <td>0.0</td>\n",
       "      <td>0.0</td>\n",
       "    </tr>\n",
       "    <tr>\n",
       "      <th>2</th>\n",
       "      <td>2023-08-10 00:00:00-04:00</td>\n",
       "      <td>307.940002</td>\n",
       "      <td>312.339996</td>\n",
       "      <td>303.869995</td>\n",
       "      <td>305.739990</td>\n",
       "      <td>14358900</td>\n",
       "      <td>0.0</td>\n",
       "      <td>0.0</td>\n",
       "    </tr>\n",
       "    <tr>\n",
       "      <th>3</th>\n",
       "      <td>2023-08-11 00:00:00-04:00</td>\n",
       "      <td>302.570007</td>\n",
       "      <td>304.720001</td>\n",
       "      <td>300.359985</td>\n",
       "      <td>301.640015</td>\n",
       "      <td>13967800</td>\n",
       "      <td>0.0</td>\n",
       "      <td>0.0</td>\n",
       "    </tr>\n",
       "    <tr>\n",
       "      <th>4</th>\n",
       "      <td>2023-08-14 00:00:00-04:00</td>\n",
       "      <td>300.980011</td>\n",
       "      <td>306.209991</td>\n",
       "      <td>298.250000</td>\n",
       "      <td>306.190002</td>\n",
       "      <td>15641900</td>\n",
       "      <td>0.0</td>\n",
       "      <td>0.0</td>\n",
       "    </tr>\n",
       "  </tbody>\n",
       "</table>\n",
       "</div>"
      ],
      "text/plain": [
       "                       Date        Open        High         Low       Close  \\\n",
       "0 2023-08-08 00:00:00-04:00  314.399994  317.890015  310.109985  312.640015   \n",
       "1 2023-08-09 00:00:00-04:00  312.880005  313.630005  302.850006  305.209991   \n",
       "2 2023-08-10 00:00:00-04:00  307.940002  312.339996  303.869995  305.739990   \n",
       "3 2023-08-11 00:00:00-04:00  302.570007  304.720001  300.359985  301.640015   \n",
       "4 2023-08-14 00:00:00-04:00  300.980011  306.209991  298.250000  306.190002   \n",
       "\n",
       "     Volume  Dividends  Stock Splits  \n",
       "0  15183500        0.0           0.0  \n",
       "1  19955800        0.0           0.0  \n",
       "2  14358900        0.0           0.0  \n",
       "3  13967800        0.0           0.0  \n",
       "4  15641900        0.0           0.0  "
      ]
     },
     "execution_count": 33,
     "metadata": {},
     "output_type": "execute_result"
    }
   ],
   "source": [
    "import yfinance as yf\n",
    "\n",
    "# Define the ticker symbol and time period\n",
    "ticker_symbol = \"META\"\n",
    "period = \"90d\"\n",
    "\n",
    "# Fetch data from Yahoo Finance\n",
    "stock_data = yf.Ticker(ticker_symbol)\n",
    "df = stock_data.history(period=period).reset_index()\n",
    " \n",
    "import plotly.graph_objects as go\n",
    "\n",
    "# Create a Plotly graph\n",
    "fig = go.Figure(data=[go.Scatter(x=df['Date'], y=df['Close'], mode='lines', name='META')])\n",
    "fig.update_layout(title='Simulated META Stock Price for the Past 90 Days',\n",
    "                  xaxis_title='Date',\n",
    "                  yaxis_title='Price (USD)',\n",
    "                  template=\"plotly_dark\")\n",
    "fig.show()\n",
    "\n",
    "df.head()\n"
   ]
  }
 ],
 "metadata": {
  "kernelspec": {
   "display_name": "base",
   "language": "python",
   "name": "python3"
  },
  "language_info": {
   "codemirror_mode": {
    "name": "ipython",
    "version": 3
   },
   "file_extension": ".py",
   "mimetype": "text/x-python",
   "name": "python",
   "nbconvert_exporter": "python",
   "pygments_lexer": "ipython3",
   "version": "3.9.13"
  }
 },
 "nbformat": 4,
 "nbformat_minor": 2
}
